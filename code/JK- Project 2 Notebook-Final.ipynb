{
 "cells": [
  {
   "cell_type": "markdown",
   "metadata": {},
   "source": [
    "# Predicting Sale Prices for Ames Iowa Housing Dataset\n",
    "\n",
    "#### By: Julia Kelman: [GitHub](https://git.generalassemb.ly/julia-kelman/)"
   ]
  },
  {
   "cell_type": "markdown",
   "metadata": {},
   "source": [
    "## Problem Statement"
   ]
  },
  {
   "cell_type": "markdown",
   "metadata": {},
   "source": [
    "We are a property management company providing services through an App for individuals who own multiple real estate properties. Our services include management, repairs, rent collection AND a portfolio feature that allows our clients to track the value of their properties.  \n",
    "We are looking to expand to a new market and our sales team discovered that real estate, rental, and leasing is the number 4 industry contributing to the Iowa Gross Domestic Product ([source](https://www.iowadatacenter.org/quickfacts)). Since Ames, IA is the home of Iowa State University ([source](https://en.wikipedia.org/wiki/Ames,_Iowa)) and largely populated by students, we expect a large number of rental properties in this city which makes it the perfect place to roll out our App.  \n",
    "\n",
    "We need to predict house prices with the highest level of accuracy for the portfolio feature of our App.  \n",
    "We plan to solve this problem by using the Ames Housing Dataset to build a regression model able to predict house prices with the highest R^2 and lowest RMSE.   \n",
    "This model will inform which features our employees should record data on during their monthly inspections. "
   ]
  },
  {
   "cell_type": "markdown",
   "metadata": {},
   "source": [
    "## Executive Summary"
   ]
  },
  {
   "cell_type": "markdown",
   "metadata": {},
   "source": [
    "Our goal is to build a model able to predict Ames, IA house prices with the highest predictive power for the portfolio feature of our App. In order to do so, the [Ames Housing Dataset](https://git.generalassemb.ly/julia-kelman/project_2/blob/master/datasets/train.csv) was used. This dataframe contains information provided by the Ames Iowa Assessor's Office and contains assessments of individual residential properties sold in Ames, IA from 2006 to 2010. To compile this dataset 2930 properties were assessed and 81 variables were provided for each of those homes. For a detailed list and description of those variables refer to the original [data dictionary](http://jse.amstat.org/v19n3/decock/DataDocumentation.txt).  \n",
    "A small portion of this dataset was reserved for a Kaggle competition and included in a [validation set](https://git.generalassemb.ly/julia-kelman/project_2/blob/master/datasets/test.csv). As a result our work was done on a subset of 2051 of those observations.  \n",
    "The dataframe was cleaned, making sure to reformat any variables with data points wrongly assigned a null value. Non-numeric ordinal variables were reformated as well in order to be tranformed into numerical features. Dummy variables were created from the remaining non-numeric features in order to be included in our model. Finally, 2 new features were engineered.  \n",
    "Exploratory analysis including summary statistics was performed to identify trends in the data. Data visualization tools were then used to visualize those trends and identify specific features that may be highly correlated to our target variable of sale price. Four models were tested: a baseline model, a linear regression model, a ridge model and a lasso model. The models were compared using R-squared and RMSE and the Lasso model was selected as the best preditive model. Further evaluation of the lasso model's performance and errors was performed.  \n",
    "We concluded that a Lasso Regression model with most features included (75 variables: 73 of the 81 originals and 2 engineered) gives us the highest predictive power. We recommended that data be collected on all of those features during our montly home inspections. Additional specific recommendations concerning which feature to focus on during those assessments and the need for procedures during data collection were made. \n"
   ]
  },
  {
   "cell_type": "markdown",
   "metadata": {},
   "source": [
    "## Table of Contents \n",
    "\n",
    "- [Ames Housing Data Import](#Loading-Data) \n",
    "- [Data Cleaning](#Data-Cleaning) \n",
    "- [Exploratory Data Analysis](#EDA) \n",
    "- [Model Preparation](#Model-Preparation)\n",
    "- [Modeling](#Modeling)  \n",
    "    - [Baseline Model](#Baseline-Model)  \n",
    "    - [Linear Regression](#Linear-Regression)  \n",
    "    - [Ridge](#Ridge)  \n",
    "    - [Lasso](#Lasso)  \n",
    "- [Model Selection](#Model-Selection)\n",
    "    - [Predictions](#Calculating-Predictions)\n",
    "    - [RMSE](#Calculating-RMSE)\n",
    "    - [R-Squared](#Calculating-R^2)\n",
    "    - [Model Comparaison](#Model-Comparaison)\n",
    "- [Model Evaluation](#Model-Evaluation)\n",
    "- [Conclusion & Recommendations](#Conclusion-and-Recommendations)\n",
    "- [References](#References)\n",
    "- [Kaggle Submission](#Kaggle-Submission)\n"
   ]
  },
  {
   "cell_type": "markdown",
   "metadata": {},
   "source": [
    "## Loading Data"
   ]
  },
  {
   "cell_type": "code",
   "execution_count": 1,
   "metadata": {},
   "outputs": [],
   "source": [
    "import warnings\n",
    "warnings.filterwarnings(\"ignore\") # Shhhh\n",
    "import numpy as np\n",
    "import pandas as pd\n",
    "import matplotlib.pyplot as plt\n",
    "import seaborn as sns\n",
    "\n",
    "from sklearn.linear_model import LinearRegression, Ridge, RidgeCV, Lasso, LassoCV\n",
    "from sklearn.model_selection import train_test_split, cross_val_score\n",
    "from sklearn.metrics import mean_squared_error, r2_score\n",
    "from sklearn import metrics\n",
    "from sklearn.preprocessing import StandardScaler\n",
    "from sklearn.dummy import DummyRegressor\n",
    "\n",
    "%matplotlib inline"
   ]
  },
  {
   "cell_type": "code",
   "execution_count": 2,
   "metadata": {},
   "outputs": [],
   "source": [
    "# Reading the training dataset: \n",
    "df = pd.read_csv('../datasets/train.csv') "
   ]
  },
  {
   "cell_type": "code",
   "execution_count": 3,
   "metadata": {},
   "outputs": [],
   "source": [
    "# Reading the Kaggle validation dataset: \n",
    "val = pd.read_csv('../datasets/test.csv')  "
   ]
  },
  {
   "cell_type": "code",
   "execution_count": 4,
   "metadata": {},
   "outputs": [],
   "source": [
    "# Setting display options \n",
    "pd.set_option('display.max_columns', None)\n",
    "\n",
    "pd.set_option('display.max_rows', None)"
   ]
  },
  {
   "cell_type": "code",
   "execution_count": 5,
   "metadata": {},
   "outputs": [
    {
     "data": {
      "text/html": [
       "<div>\n",
       "<style scoped>\n",
       "    .dataframe tbody tr th:only-of-type {\n",
       "        vertical-align: middle;\n",
       "    }\n",
       "\n",
       "    .dataframe tbody tr th {\n",
       "        vertical-align: top;\n",
       "    }\n",
       "\n",
       "    .dataframe thead th {\n",
       "        text-align: right;\n",
       "    }\n",
       "</style>\n",
       "<table border=\"1\" class=\"dataframe\">\n",
       "  <thead>\n",
       "    <tr style=\"text-align: right;\">\n",
       "      <th></th>\n",
       "      <th>Id</th>\n",
       "      <th>PID</th>\n",
       "      <th>MS SubClass</th>\n",
       "      <th>MS Zoning</th>\n",
       "      <th>Lot Frontage</th>\n",
       "      <th>Lot Area</th>\n",
       "      <th>Street</th>\n",
       "      <th>Alley</th>\n",
       "      <th>Lot Shape</th>\n",
       "      <th>Land Contour</th>\n",
       "      <th>Utilities</th>\n",
       "      <th>Lot Config</th>\n",
       "      <th>Land Slope</th>\n",
       "      <th>Neighborhood</th>\n",
       "      <th>Condition 1</th>\n",
       "      <th>Condition 2</th>\n",
       "      <th>Bldg Type</th>\n",
       "      <th>House Style</th>\n",
       "      <th>Overall Qual</th>\n",
       "      <th>Overall Cond</th>\n",
       "      <th>Year Built</th>\n",
       "      <th>Year Remod/Add</th>\n",
       "      <th>Roof Style</th>\n",
       "      <th>Roof Matl</th>\n",
       "      <th>Exterior 1st</th>\n",
       "      <th>Exterior 2nd</th>\n",
       "      <th>Mas Vnr Type</th>\n",
       "      <th>Mas Vnr Area</th>\n",
       "      <th>Exter Qual</th>\n",
       "      <th>Exter Cond</th>\n",
       "      <th>Foundation</th>\n",
       "      <th>Bsmt Qual</th>\n",
       "      <th>Bsmt Cond</th>\n",
       "      <th>Bsmt Exposure</th>\n",
       "      <th>BsmtFin Type 1</th>\n",
       "      <th>BsmtFin SF 1</th>\n",
       "      <th>BsmtFin Type 2</th>\n",
       "      <th>BsmtFin SF 2</th>\n",
       "      <th>Bsmt Unf SF</th>\n",
       "      <th>Total Bsmt SF</th>\n",
       "      <th>Heating</th>\n",
       "      <th>Heating QC</th>\n",
       "      <th>Central Air</th>\n",
       "      <th>Electrical</th>\n",
       "      <th>1st Flr SF</th>\n",
       "      <th>2nd Flr SF</th>\n",
       "      <th>Low Qual Fin SF</th>\n",
       "      <th>Gr Liv Area</th>\n",
       "      <th>Bsmt Full Bath</th>\n",
       "      <th>Bsmt Half Bath</th>\n",
       "      <th>Full Bath</th>\n",
       "      <th>Half Bath</th>\n",
       "      <th>Bedroom AbvGr</th>\n",
       "      <th>Kitchen AbvGr</th>\n",
       "      <th>Kitchen Qual</th>\n",
       "      <th>TotRms AbvGrd</th>\n",
       "      <th>Functional</th>\n",
       "      <th>Fireplaces</th>\n",
       "      <th>Fireplace Qu</th>\n",
       "      <th>Garage Type</th>\n",
       "      <th>Garage Yr Blt</th>\n",
       "      <th>Garage Finish</th>\n",
       "      <th>Garage Cars</th>\n",
       "      <th>Garage Area</th>\n",
       "      <th>Garage Qual</th>\n",
       "      <th>Garage Cond</th>\n",
       "      <th>Paved Drive</th>\n",
       "      <th>Wood Deck SF</th>\n",
       "      <th>Open Porch SF</th>\n",
       "      <th>Enclosed Porch</th>\n",
       "      <th>3Ssn Porch</th>\n",
       "      <th>Screen Porch</th>\n",
       "      <th>Pool Area</th>\n",
       "      <th>Pool QC</th>\n",
       "      <th>Fence</th>\n",
       "      <th>Misc Feature</th>\n",
       "      <th>Misc Val</th>\n",
       "      <th>Mo Sold</th>\n",
       "      <th>Yr Sold</th>\n",
       "      <th>Sale Type</th>\n",
       "      <th>SalePrice</th>\n",
       "    </tr>\n",
       "  </thead>\n",
       "  <tbody>\n",
       "    <tr>\n",
       "      <th>0</th>\n",
       "      <td>109</td>\n",
       "      <td>533352170</td>\n",
       "      <td>60</td>\n",
       "      <td>RL</td>\n",
       "      <td>NaN</td>\n",
       "      <td>13517</td>\n",
       "      <td>Pave</td>\n",
       "      <td>NaN</td>\n",
       "      <td>IR1</td>\n",
       "      <td>Lvl</td>\n",
       "      <td>AllPub</td>\n",
       "      <td>CulDSac</td>\n",
       "      <td>Gtl</td>\n",
       "      <td>Sawyer</td>\n",
       "      <td>RRAe</td>\n",
       "      <td>Norm</td>\n",
       "      <td>1Fam</td>\n",
       "      <td>2Story</td>\n",
       "      <td>6</td>\n",
       "      <td>8</td>\n",
       "      <td>1976</td>\n",
       "      <td>2005</td>\n",
       "      <td>Gable</td>\n",
       "      <td>CompShg</td>\n",
       "      <td>HdBoard</td>\n",
       "      <td>Plywood</td>\n",
       "      <td>BrkFace</td>\n",
       "      <td>289.0</td>\n",
       "      <td>Gd</td>\n",
       "      <td>TA</td>\n",
       "      <td>CBlock</td>\n",
       "      <td>TA</td>\n",
       "      <td>TA</td>\n",
       "      <td>No</td>\n",
       "      <td>GLQ</td>\n",
       "      <td>533.0</td>\n",
       "      <td>Unf</td>\n",
       "      <td>0.0</td>\n",
       "      <td>192.0</td>\n",
       "      <td>725.0</td>\n",
       "      <td>GasA</td>\n",
       "      <td>Ex</td>\n",
       "      <td>Y</td>\n",
       "      <td>SBrkr</td>\n",
       "      <td>725</td>\n",
       "      <td>754</td>\n",
       "      <td>0</td>\n",
       "      <td>1479</td>\n",
       "      <td>0.0</td>\n",
       "      <td>0.0</td>\n",
       "      <td>2</td>\n",
       "      <td>1</td>\n",
       "      <td>3</td>\n",
       "      <td>1</td>\n",
       "      <td>Gd</td>\n",
       "      <td>6</td>\n",
       "      <td>Typ</td>\n",
       "      <td>0</td>\n",
       "      <td>NaN</td>\n",
       "      <td>Attchd</td>\n",
       "      <td>1976.0</td>\n",
       "      <td>RFn</td>\n",
       "      <td>2.0</td>\n",
       "      <td>475.0</td>\n",
       "      <td>TA</td>\n",
       "      <td>TA</td>\n",
       "      <td>Y</td>\n",
       "      <td>0</td>\n",
       "      <td>44</td>\n",
       "      <td>0</td>\n",
       "      <td>0</td>\n",
       "      <td>0</td>\n",
       "      <td>0</td>\n",
       "      <td>NaN</td>\n",
       "      <td>NaN</td>\n",
       "      <td>NaN</td>\n",
       "      <td>0</td>\n",
       "      <td>3</td>\n",
       "      <td>2010</td>\n",
       "      <td>WD</td>\n",
       "      <td>130500</td>\n",
       "    </tr>\n",
       "    <tr>\n",
       "      <th>1</th>\n",
       "      <td>544</td>\n",
       "      <td>531379050</td>\n",
       "      <td>60</td>\n",
       "      <td>RL</td>\n",
       "      <td>43.0</td>\n",
       "      <td>11492</td>\n",
       "      <td>Pave</td>\n",
       "      <td>NaN</td>\n",
       "      <td>IR1</td>\n",
       "      <td>Lvl</td>\n",
       "      <td>AllPub</td>\n",
       "      <td>CulDSac</td>\n",
       "      <td>Gtl</td>\n",
       "      <td>SawyerW</td>\n",
       "      <td>Norm</td>\n",
       "      <td>Norm</td>\n",
       "      <td>1Fam</td>\n",
       "      <td>2Story</td>\n",
       "      <td>7</td>\n",
       "      <td>5</td>\n",
       "      <td>1996</td>\n",
       "      <td>1997</td>\n",
       "      <td>Gable</td>\n",
       "      <td>CompShg</td>\n",
       "      <td>VinylSd</td>\n",
       "      <td>VinylSd</td>\n",
       "      <td>BrkFace</td>\n",
       "      <td>132.0</td>\n",
       "      <td>Gd</td>\n",
       "      <td>TA</td>\n",
       "      <td>PConc</td>\n",
       "      <td>Gd</td>\n",
       "      <td>TA</td>\n",
       "      <td>No</td>\n",
       "      <td>GLQ</td>\n",
       "      <td>637.0</td>\n",
       "      <td>Unf</td>\n",
       "      <td>0.0</td>\n",
       "      <td>276.0</td>\n",
       "      <td>913.0</td>\n",
       "      <td>GasA</td>\n",
       "      <td>Ex</td>\n",
       "      <td>Y</td>\n",
       "      <td>SBrkr</td>\n",
       "      <td>913</td>\n",
       "      <td>1209</td>\n",
       "      <td>0</td>\n",
       "      <td>2122</td>\n",
       "      <td>1.0</td>\n",
       "      <td>0.0</td>\n",
       "      <td>2</td>\n",
       "      <td>1</td>\n",
       "      <td>4</td>\n",
       "      <td>1</td>\n",
       "      <td>Gd</td>\n",
       "      <td>8</td>\n",
       "      <td>Typ</td>\n",
       "      <td>1</td>\n",
       "      <td>TA</td>\n",
       "      <td>Attchd</td>\n",
       "      <td>1997.0</td>\n",
       "      <td>RFn</td>\n",
       "      <td>2.0</td>\n",
       "      <td>559.0</td>\n",
       "      <td>TA</td>\n",
       "      <td>TA</td>\n",
       "      <td>Y</td>\n",
       "      <td>0</td>\n",
       "      <td>74</td>\n",
       "      <td>0</td>\n",
       "      <td>0</td>\n",
       "      <td>0</td>\n",
       "      <td>0</td>\n",
       "      <td>NaN</td>\n",
       "      <td>NaN</td>\n",
       "      <td>NaN</td>\n",
       "      <td>0</td>\n",
       "      <td>4</td>\n",
       "      <td>2009</td>\n",
       "      <td>WD</td>\n",
       "      <td>220000</td>\n",
       "    </tr>\n",
       "    <tr>\n",
       "      <th>2</th>\n",
       "      <td>153</td>\n",
       "      <td>535304180</td>\n",
       "      <td>20</td>\n",
       "      <td>RL</td>\n",
       "      <td>68.0</td>\n",
       "      <td>7922</td>\n",
       "      <td>Pave</td>\n",
       "      <td>NaN</td>\n",
       "      <td>Reg</td>\n",
       "      <td>Lvl</td>\n",
       "      <td>AllPub</td>\n",
       "      <td>Inside</td>\n",
       "      <td>Gtl</td>\n",
       "      <td>NAmes</td>\n",
       "      <td>Norm</td>\n",
       "      <td>Norm</td>\n",
       "      <td>1Fam</td>\n",
       "      <td>1Story</td>\n",
       "      <td>5</td>\n",
       "      <td>7</td>\n",
       "      <td>1953</td>\n",
       "      <td>2007</td>\n",
       "      <td>Gable</td>\n",
       "      <td>CompShg</td>\n",
       "      <td>VinylSd</td>\n",
       "      <td>VinylSd</td>\n",
       "      <td>None</td>\n",
       "      <td>0.0</td>\n",
       "      <td>TA</td>\n",
       "      <td>Gd</td>\n",
       "      <td>CBlock</td>\n",
       "      <td>TA</td>\n",
       "      <td>TA</td>\n",
       "      <td>No</td>\n",
       "      <td>GLQ</td>\n",
       "      <td>731.0</td>\n",
       "      <td>Unf</td>\n",
       "      <td>0.0</td>\n",
       "      <td>326.0</td>\n",
       "      <td>1057.0</td>\n",
       "      <td>GasA</td>\n",
       "      <td>TA</td>\n",
       "      <td>Y</td>\n",
       "      <td>SBrkr</td>\n",
       "      <td>1057</td>\n",
       "      <td>0</td>\n",
       "      <td>0</td>\n",
       "      <td>1057</td>\n",
       "      <td>1.0</td>\n",
       "      <td>0.0</td>\n",
       "      <td>1</td>\n",
       "      <td>0</td>\n",
       "      <td>3</td>\n",
       "      <td>1</td>\n",
       "      <td>Gd</td>\n",
       "      <td>5</td>\n",
       "      <td>Typ</td>\n",
       "      <td>0</td>\n",
       "      <td>NaN</td>\n",
       "      <td>Detchd</td>\n",
       "      <td>1953.0</td>\n",
       "      <td>Unf</td>\n",
       "      <td>1.0</td>\n",
       "      <td>246.0</td>\n",
       "      <td>TA</td>\n",
       "      <td>TA</td>\n",
       "      <td>Y</td>\n",
       "      <td>0</td>\n",
       "      <td>52</td>\n",
       "      <td>0</td>\n",
       "      <td>0</td>\n",
       "      <td>0</td>\n",
       "      <td>0</td>\n",
       "      <td>NaN</td>\n",
       "      <td>NaN</td>\n",
       "      <td>NaN</td>\n",
       "      <td>0</td>\n",
       "      <td>1</td>\n",
       "      <td>2010</td>\n",
       "      <td>WD</td>\n",
       "      <td>109000</td>\n",
       "    </tr>\n",
       "    <tr>\n",
       "      <th>3</th>\n",
       "      <td>318</td>\n",
       "      <td>916386060</td>\n",
       "      <td>60</td>\n",
       "      <td>RL</td>\n",
       "      <td>73.0</td>\n",
       "      <td>9802</td>\n",
       "      <td>Pave</td>\n",
       "      <td>NaN</td>\n",
       "      <td>Reg</td>\n",
       "      <td>Lvl</td>\n",
       "      <td>AllPub</td>\n",
       "      <td>Inside</td>\n",
       "      <td>Gtl</td>\n",
       "      <td>Timber</td>\n",
       "      <td>Norm</td>\n",
       "      <td>Norm</td>\n",
       "      <td>1Fam</td>\n",
       "      <td>2Story</td>\n",
       "      <td>5</td>\n",
       "      <td>5</td>\n",
       "      <td>2006</td>\n",
       "      <td>2007</td>\n",
       "      <td>Gable</td>\n",
       "      <td>CompShg</td>\n",
       "      <td>VinylSd</td>\n",
       "      <td>VinylSd</td>\n",
       "      <td>None</td>\n",
       "      <td>0.0</td>\n",
       "      <td>TA</td>\n",
       "      <td>TA</td>\n",
       "      <td>PConc</td>\n",
       "      <td>Gd</td>\n",
       "      <td>TA</td>\n",
       "      <td>No</td>\n",
       "      <td>Unf</td>\n",
       "      <td>0.0</td>\n",
       "      <td>Unf</td>\n",
       "      <td>0.0</td>\n",
       "      <td>384.0</td>\n",
       "      <td>384.0</td>\n",
       "      <td>GasA</td>\n",
       "      <td>Gd</td>\n",
       "      <td>Y</td>\n",
       "      <td>SBrkr</td>\n",
       "      <td>744</td>\n",
       "      <td>700</td>\n",
       "      <td>0</td>\n",
       "      <td>1444</td>\n",
       "      <td>0.0</td>\n",
       "      <td>0.0</td>\n",
       "      <td>2</td>\n",
       "      <td>1</td>\n",
       "      <td>3</td>\n",
       "      <td>1</td>\n",
       "      <td>TA</td>\n",
       "      <td>7</td>\n",
       "      <td>Typ</td>\n",
       "      <td>0</td>\n",
       "      <td>NaN</td>\n",
       "      <td>BuiltIn</td>\n",
       "      <td>2007.0</td>\n",
       "      <td>Fin</td>\n",
       "      <td>2.0</td>\n",
       "      <td>400.0</td>\n",
       "      <td>TA</td>\n",
       "      <td>TA</td>\n",
       "      <td>Y</td>\n",
       "      <td>100</td>\n",
       "      <td>0</td>\n",
       "      <td>0</td>\n",
       "      <td>0</td>\n",
       "      <td>0</td>\n",
       "      <td>0</td>\n",
       "      <td>NaN</td>\n",
       "      <td>NaN</td>\n",
       "      <td>NaN</td>\n",
       "      <td>0</td>\n",
       "      <td>4</td>\n",
       "      <td>2010</td>\n",
       "      <td>WD</td>\n",
       "      <td>174000</td>\n",
       "    </tr>\n",
       "    <tr>\n",
       "      <th>4</th>\n",
       "      <td>255</td>\n",
       "      <td>906425045</td>\n",
       "      <td>50</td>\n",
       "      <td>RL</td>\n",
       "      <td>82.0</td>\n",
       "      <td>14235</td>\n",
       "      <td>Pave</td>\n",
       "      <td>NaN</td>\n",
       "      <td>IR1</td>\n",
       "      <td>Lvl</td>\n",
       "      <td>AllPub</td>\n",
       "      <td>Inside</td>\n",
       "      <td>Gtl</td>\n",
       "      <td>SawyerW</td>\n",
       "      <td>Norm</td>\n",
       "      <td>Norm</td>\n",
       "      <td>1Fam</td>\n",
       "      <td>1.5Fin</td>\n",
       "      <td>6</td>\n",
       "      <td>8</td>\n",
       "      <td>1900</td>\n",
       "      <td>1993</td>\n",
       "      <td>Gable</td>\n",
       "      <td>CompShg</td>\n",
       "      <td>Wd Sdng</td>\n",
       "      <td>Plywood</td>\n",
       "      <td>None</td>\n",
       "      <td>0.0</td>\n",
       "      <td>TA</td>\n",
       "      <td>TA</td>\n",
       "      <td>PConc</td>\n",
       "      <td>Fa</td>\n",
       "      <td>Gd</td>\n",
       "      <td>No</td>\n",
       "      <td>Unf</td>\n",
       "      <td>0.0</td>\n",
       "      <td>Unf</td>\n",
       "      <td>0.0</td>\n",
       "      <td>676.0</td>\n",
       "      <td>676.0</td>\n",
       "      <td>GasA</td>\n",
       "      <td>TA</td>\n",
       "      <td>Y</td>\n",
       "      <td>SBrkr</td>\n",
       "      <td>831</td>\n",
       "      <td>614</td>\n",
       "      <td>0</td>\n",
       "      <td>1445</td>\n",
       "      <td>0.0</td>\n",
       "      <td>0.0</td>\n",
       "      <td>2</td>\n",
       "      <td>0</td>\n",
       "      <td>3</td>\n",
       "      <td>1</td>\n",
       "      <td>TA</td>\n",
       "      <td>6</td>\n",
       "      <td>Typ</td>\n",
       "      <td>0</td>\n",
       "      <td>NaN</td>\n",
       "      <td>Detchd</td>\n",
       "      <td>1957.0</td>\n",
       "      <td>Unf</td>\n",
       "      <td>2.0</td>\n",
       "      <td>484.0</td>\n",
       "      <td>TA</td>\n",
       "      <td>TA</td>\n",
       "      <td>N</td>\n",
       "      <td>0</td>\n",
       "      <td>59</td>\n",
       "      <td>0</td>\n",
       "      <td>0</td>\n",
       "      <td>0</td>\n",
       "      <td>0</td>\n",
       "      <td>NaN</td>\n",
       "      <td>NaN</td>\n",
       "      <td>NaN</td>\n",
       "      <td>0</td>\n",
       "      <td>3</td>\n",
       "      <td>2010</td>\n",
       "      <td>WD</td>\n",
       "      <td>138500</td>\n",
       "    </tr>\n",
       "  </tbody>\n",
       "</table>\n",
       "</div>"
      ],
      "text/plain": [
       "    Id        PID  MS SubClass MS Zoning  Lot Frontage  Lot Area Street Alley  \\\n",
       "0  109  533352170           60        RL           NaN     13517   Pave   NaN   \n",
       "1  544  531379050           60        RL          43.0     11492   Pave   NaN   \n",
       "2  153  535304180           20        RL          68.0      7922   Pave   NaN   \n",
       "3  318  916386060           60        RL          73.0      9802   Pave   NaN   \n",
       "4  255  906425045           50        RL          82.0     14235   Pave   NaN   \n",
       "\n",
       "  Lot Shape Land Contour Utilities Lot Config Land Slope Neighborhood  \\\n",
       "0       IR1          Lvl    AllPub    CulDSac        Gtl       Sawyer   \n",
       "1       IR1          Lvl    AllPub    CulDSac        Gtl      SawyerW   \n",
       "2       Reg          Lvl    AllPub     Inside        Gtl        NAmes   \n",
       "3       Reg          Lvl    AllPub     Inside        Gtl       Timber   \n",
       "4       IR1          Lvl    AllPub     Inside        Gtl      SawyerW   \n",
       "\n",
       "  Condition 1 Condition 2 Bldg Type House Style  Overall Qual  Overall Cond  \\\n",
       "0        RRAe        Norm      1Fam      2Story             6             8   \n",
       "1        Norm        Norm      1Fam      2Story             7             5   \n",
       "2        Norm        Norm      1Fam      1Story             5             7   \n",
       "3        Norm        Norm      1Fam      2Story             5             5   \n",
       "4        Norm        Norm      1Fam      1.5Fin             6             8   \n",
       "\n",
       "   Year Built  Year Remod/Add Roof Style Roof Matl Exterior 1st Exterior 2nd  \\\n",
       "0        1976            2005      Gable   CompShg      HdBoard      Plywood   \n",
       "1        1996            1997      Gable   CompShg      VinylSd      VinylSd   \n",
       "2        1953            2007      Gable   CompShg      VinylSd      VinylSd   \n",
       "3        2006            2007      Gable   CompShg      VinylSd      VinylSd   \n",
       "4        1900            1993      Gable   CompShg      Wd Sdng      Plywood   \n",
       "\n",
       "  Mas Vnr Type  Mas Vnr Area Exter Qual Exter Cond Foundation Bsmt Qual  \\\n",
       "0      BrkFace         289.0         Gd         TA     CBlock        TA   \n",
       "1      BrkFace         132.0         Gd         TA      PConc        Gd   \n",
       "2         None           0.0         TA         Gd     CBlock        TA   \n",
       "3         None           0.0         TA         TA      PConc        Gd   \n",
       "4         None           0.0         TA         TA      PConc        Fa   \n",
       "\n",
       "  Bsmt Cond Bsmt Exposure BsmtFin Type 1  BsmtFin SF 1 BsmtFin Type 2  \\\n",
       "0        TA            No            GLQ         533.0            Unf   \n",
       "1        TA            No            GLQ         637.0            Unf   \n",
       "2        TA            No            GLQ         731.0            Unf   \n",
       "3        TA            No            Unf           0.0            Unf   \n",
       "4        Gd            No            Unf           0.0            Unf   \n",
       "\n",
       "   BsmtFin SF 2  Bsmt Unf SF  Total Bsmt SF Heating Heating QC Central Air  \\\n",
       "0           0.0        192.0          725.0    GasA         Ex           Y   \n",
       "1           0.0        276.0          913.0    GasA         Ex           Y   \n",
       "2           0.0        326.0         1057.0    GasA         TA           Y   \n",
       "3           0.0        384.0          384.0    GasA         Gd           Y   \n",
       "4           0.0        676.0          676.0    GasA         TA           Y   \n",
       "\n",
       "  Electrical  1st Flr SF  2nd Flr SF  Low Qual Fin SF  Gr Liv Area  \\\n",
       "0      SBrkr         725         754                0         1479   \n",
       "1      SBrkr         913        1209                0         2122   \n",
       "2      SBrkr        1057           0                0         1057   \n",
       "3      SBrkr         744         700                0         1444   \n",
       "4      SBrkr         831         614                0         1445   \n",
       "\n",
       "   Bsmt Full Bath  Bsmt Half Bath  Full Bath  Half Bath  Bedroom AbvGr  \\\n",
       "0             0.0             0.0          2          1              3   \n",
       "1             1.0             0.0          2          1              4   \n",
       "2             1.0             0.0          1          0              3   \n",
       "3             0.0             0.0          2          1              3   \n",
       "4             0.0             0.0          2          0              3   \n",
       "\n",
       "   Kitchen AbvGr Kitchen Qual  TotRms AbvGrd Functional  Fireplaces  \\\n",
       "0              1           Gd              6        Typ           0   \n",
       "1              1           Gd              8        Typ           1   \n",
       "2              1           Gd              5        Typ           0   \n",
       "3              1           TA              7        Typ           0   \n",
       "4              1           TA              6        Typ           0   \n",
       "\n",
       "  Fireplace Qu Garage Type  Garage Yr Blt Garage Finish  Garage Cars  \\\n",
       "0          NaN      Attchd         1976.0           RFn          2.0   \n",
       "1           TA      Attchd         1997.0           RFn          2.0   \n",
       "2          NaN      Detchd         1953.0           Unf          1.0   \n",
       "3          NaN     BuiltIn         2007.0           Fin          2.0   \n",
       "4          NaN      Detchd         1957.0           Unf          2.0   \n",
       "\n",
       "   Garage Area Garage Qual Garage Cond Paved Drive  Wood Deck SF  \\\n",
       "0        475.0          TA          TA           Y             0   \n",
       "1        559.0          TA          TA           Y             0   \n",
       "2        246.0          TA          TA           Y             0   \n",
       "3        400.0          TA          TA           Y           100   \n",
       "4        484.0          TA          TA           N             0   \n",
       "\n",
       "   Open Porch SF  Enclosed Porch  3Ssn Porch  Screen Porch  Pool Area Pool QC  \\\n",
       "0             44               0           0             0          0     NaN   \n",
       "1             74               0           0             0          0     NaN   \n",
       "2             52               0           0             0          0     NaN   \n",
       "3              0               0           0             0          0     NaN   \n",
       "4             59               0           0             0          0     NaN   \n",
       "\n",
       "  Fence Misc Feature  Misc Val  Mo Sold  Yr Sold Sale Type  SalePrice  \n",
       "0   NaN          NaN         0        3     2010       WD      130500  \n",
       "1   NaN          NaN         0        4     2009       WD      220000  \n",
       "2   NaN          NaN         0        1     2010       WD      109000  \n",
       "3   NaN          NaN         0        4     2010       WD      174000  \n",
       "4   NaN          NaN         0        3     2010       WD      138500  "
      ]
     },
     "execution_count": 5,
     "metadata": {},
     "output_type": "execute_result"
    }
   ],
   "source": [
    "df.head()"
   ]
  },
  {
   "cell_type": "code",
   "execution_count": 6,
   "metadata": {
    "scrolled": false
   },
   "outputs": [
    {
     "data": {
      "text/plain": [
       "(2051, 81)"
      ]
     },
     "execution_count": 6,
     "metadata": {},
     "output_type": "execute_result"
    }
   ],
   "source": [
    "df.shape"
   ]
  },
  {
   "cell_type": "markdown",
   "metadata": {},
   "source": [
    "## Data Cleaning"
   ]
  },
  {
   "cell_type": "code",
   "execution_count": 7,
   "metadata": {},
   "outputs": [
    {
     "data": {
      "text/plain": [
       "9822"
      ]
     },
     "execution_count": 7,
     "metadata": {},
     "output_type": "execute_result"
    }
   ],
   "source": [
    "# Investigating nulls \n",
    "df.isnull().sum().sum()"
   ]
  },
  {
   "cell_type": "markdown",
   "metadata": {},
   "source": [
    "According to information from the original data dictionary, many features' 'NA' are actually a way of encoding valid data. Those features need to be reformated. For other features (where NAs are actual missing values) we need to impute the mean or mode depending on the data type."
   ]
  },
  {
   "cell_type": "markdown",
   "metadata": {},
   "source": [
    "During the cleaning process, every feature was investigated and cleaned. The steps taken were compiled into the following function:"
   ]
  },
  {
   "cell_type": "code",
   "execution_count": 8,
   "metadata": {},
   "outputs": [],
   "source": [
    "def format_data_cleaning(df_train, df_holdout): \n",
    "    # Removing NaNs that actually have meaning:\n",
    "    df_train['Alley'] = df_train['Alley'].map({np.nan: 'No_alley', 'Pave':'Pave', 'Grvl':'Grvl'})\n",
    "    df_train['Bsmt Qual'] = df_train['Bsmt Qual'].map({np.nan: 0, 'Po':1, 'Fa':2, 'TA':3, 'Gd':4, 'Ex':5})\n",
    "    df_train['Bsmt Cond'] = df_train['Bsmt Cond'].map({np.nan: 0, 'Po':1, 'Fa':2, 'TA':3, 'Gd':4, 'Ex':5})\n",
    "    df_train['Bsmt Exposure'] = df_train['Bsmt Exposure'].map({np.nan: 0, 'No':1, 'Mn':2, 'Av':3, 'Gd':4})\n",
    "    df_train['BsmtFin Type 1'] = df_train['BsmtFin Type 1'].map({np.nan: 0, 'Unf':1, 'LwQ':2, 'Rec':3, 'BLQ':4, 'ALQ':5, 'GLQ':6})\n",
    "    df_train['BsmtFin Type 2'] = df_train['BsmtFin Type 2'].map({np.nan: 0, 'Unf':1, 'LwQ':2, 'Rec':3, 'BLQ':4, 'ALQ':5, 'GLQ':6})\n",
    "    df_train['Fireplace Qu'] = df_train['Fireplace Qu'].map({np.nan: 0, 'Po':1, 'Fa':2, 'TA':3, 'Gd':4, 'Ex':5})\n",
    "    df_train['Garage Type'] = df_train['Garage Type'].map({np.nan: 'No Garage', 'Detchd':'Detchd', 'CarPort':'CarPort', 'BuiltIn':'BuiltIn', 'Basment':'Basment', 'Attchd':'Attchd', '2Types':'2Types'})\n",
    "    df_train['Garage Finish'] = df_train['Garage Finish'].map({np.nan: 0, 'Unf':1, 'RFn':2, 'Fin':3})    \n",
    "    df_train['Garage Qual'] = df_train['Garage Qual'].map({np.nan: 0, 'Po':1, 'Fa':2, 'TA':3, 'Gd':4, 'Ex':5})\n",
    "    df_train['Garage Cond'] = df_train['Garage Cond'].map({np.nan: 0, 'Po':1, 'Fa':2, 'TA':3, 'Gd':4, 'Ex':5})\n",
    "    df_train['Pool QC'] = df_train['Pool QC'].map({np.nan: 0, 'Fa':1, 'TA':2, 'Gd':3, 'Ex':4})\n",
    "    df_train['Fence'] = df_train['Fence'].map({np.nan: 'No Fence', 'MnWw':'MnWw', 'GdWo':'GdWo', 'MnPrv':'MnPrv', 'GdPrv':'GdPrv'})\n",
    "    df_train['Misc Feature'] = df_train['Misc Feature'].map({np.nan: 'None', 'TenC':'TenC', 'Shed':'Shed', 'Othr':'Othr', 'Gar2':'Gar2', 'Elev':'Elev'})\n",
    "    # Fixing Datatypes: \n",
    "    df_train['Id'] = df_train['Id'].astype(str)\n",
    "    df_train['PID'] = df_train['PID'].astype(str)\n",
    "    df_train['MS SubClass'] = df_train['MS SubClass'].astype(str)\n",
    "    # Inputing mean/mode for remaining NaNs: \n",
    "    for column in df_train.columns:\n",
    "        if df_train[column].dtype != 'O':\n",
    "            df_train[column].fillna(df_train[column].mean(), inplace=True)\n",
    "        else: \n",
    "            df_train[column].fillna(df_train[column].mode(), inplace=True)\n",
    "    #Dealing with Mas Vnr Type feature: \n",
    "    df_train['Mas Vnr Type'].fillna('None', inplace=True)\n",
    "    \n",
    "    # Removing NaNs that actually have meaning:\n",
    "    df_holdout['Alley'] = df_holdout['Alley'].map({np.nan: 'No_alley', 'Pave':'Pave', 'Grvl':'Grvl'})\n",
    "    df_holdout['Bsmt Qual'] = df_holdout['Bsmt Qual'].map({np.nan: 0, 'Po':1, 'Fa':2, 'TA':3, 'Gd':4, 'Ex':5})\n",
    "    df_holdout['Bsmt Cond'] = df_holdout['Bsmt Cond'].map({np.nan: 0, 'Po':1, 'Fa':2, 'TA':3, 'Gd':4, 'Ex':5})\n",
    "    df_holdout['Bsmt Exposure'] = df_holdout['Bsmt Exposure'].map({np.nan: 0, 'No':1, 'Mn':2, 'Av':3, 'Gd':4})\n",
    "    df_holdout['BsmtFin Type 1'] = df_holdout['BsmtFin Type 1'].map({np.nan: 0, 'Unf':1, 'LwQ':2, 'Rec':3, 'BLQ':4, 'ALQ':5, 'GLQ':6})\n",
    "    df_holdout['BsmtFin Type 2'] = df_holdout['BsmtFin Type 2'].map({np.nan: 0, 'Unf':1, 'LwQ':2, 'Rec':3, 'BLQ':4, 'ALQ':5, 'GLQ':6})\n",
    "    df_holdout['Fireplace Qu'] = df_holdout['Fireplace Qu'].map({np.nan: 0, 'Po':1, 'Fa':2, 'TA':3, 'Gd':4, 'Ex':5})\n",
    "    df_holdout['Garage Type'] = df_holdout['Garage Type'].map({np.nan: 'No Garage', 'Detchd':'Detchd', 'CarPort':'CarPort', 'BuiltIn':'BuiltIn', 'Basment':'Basment', 'Attchd':'Attchd', '2Types':'2Types'})\n",
    "    df_holdout['Garage Finish'] = df_holdout['Garage Finish'].map({np.nan: 0, 'Unf':1, 'RFn':2, 'Fin':3})    \n",
    "    df_holdout['Garage Qual'] = df_holdout['Garage Qual'].map({np.nan: 0, 'Po':1, 'Fa':2, 'TA':3, 'Gd':4, 'Ex':5})\n",
    "    df_holdout['Garage Cond'] = df_holdout['Garage Cond'].map({np.nan: 0, 'Po':1, 'Fa':2, 'TA':3, 'Gd':4, 'Ex':5})\n",
    "    df_holdout['Pool QC'] = df_holdout['Pool QC'].map({np.nan: 0, 'Fa':1, 'TA':2, 'Gd':3, 'Ex':4})\n",
    "    df_holdout['Fence'] = df_holdout['Fence'].map({np.nan: 'No Fence', 'MnWw':'MnWw', 'GdWo':'GdWo', 'MnPrv':'MnPrv', 'GdPrv':'GdPrv'})\n",
    "    df_holdout['Misc Feature'] = df_holdout['Misc Feature'].map({np.nan: 'None', 'TenC':'TenC', 'Shed':'Shed', 'Othr':'Othr', 'Gar2':'Gar2', 'Elev':'Elev'})\n",
    "    # Fixing Datatypes: \n",
    "    df_holdout['Id'] = df_holdout['Id'].astype(str)\n",
    "    df_holdout['PID'] = df_holdout['PID'].astype(str)\n",
    "    df_holdout['MS SubClass'] = df_holdout['MS SubClass'].astype(str)\n",
    "    # Inputing mean for remaining NaNs: \n",
    "    for column in df_holdout.columns:\n",
    "        if df_holdout[column].dtype != 'O':\n",
    "            df_holdout[column].fillna(df_train[column].mean(), inplace=True)\n",
    "        else: \n",
    "            df_holdout[column].fillna(df_train[column].mode(), inplace=True)\n",
    "    #Dealing with Mas Vnr Type and Electrical features: \n",
    "    df_holdout['Mas Vnr Type'].fillna('None', inplace=True)\n",
    "    df_holdout['Electrical'].fillna('SBrkr', inplace=True) #'SBrKr' is the mode of the training datatset for this feature"
   ]
  },
  {
   "cell_type": "code",
   "execution_count": 9,
   "metadata": {},
   "outputs": [],
   "source": [
    "# Cleaning our dataframe:\n",
    "format_data_cleaning(df, val)"
   ]
  },
  {
   "cell_type": "code",
   "execution_count": 10,
   "metadata": {},
   "outputs": [
    {
     "data": {
      "text/plain": [
       "0"
      ]
     },
     "execution_count": 10,
     "metadata": {},
     "output_type": "execute_result"
    }
   ],
   "source": [
    "# Confirming there are no more nulls \n",
    "df.isnull().sum().sum()"
   ]
  },
  {
   "cell_type": "markdown",
   "metadata": {},
   "source": [
    "There are no more missing values in our dataset."
   ]
  },
  {
   "cell_type": "code",
   "execution_count": 11,
   "metadata": {
    "scrolled": true
   },
   "outputs": [
    {
     "data": {
      "text/plain": [
       "1699    2207.0\n",
       "1241    2010.0\n",
       "144     2010.0\n",
       "1732    2009.0\n",
       "1700    2009.0\n",
       "Name: Garage Yr Blt, dtype: float64"
      ]
     },
     "execution_count": 11,
     "metadata": {},
     "output_type": "execute_result"
    }
   ],
   "source": [
    "# A maximum year of 2207 does not make sense. Let's invistigate further to see if this data can be corrected.\n",
    "df['Garage Yr Blt'].sort_values(ascending=False).head()"
   ]
  },
  {
   "cell_type": "code",
   "execution_count": 12,
   "metadata": {
    "scrolled": false
   },
   "outputs": [
    {
     "data": {
      "text/plain": [
       "Id                      2261\n",
       "PID                916384070\n",
       "MS SubClass               20\n",
       "MS Zoning                 RL\n",
       "Lot Frontage              68\n",
       "Lot Area                8298\n",
       "Street                  Pave\n",
       "Alley               No_alley\n",
       "Lot Shape                IR1\n",
       "Land Contour             HLS\n",
       "Utilities             AllPub\n",
       "Lot Config            Inside\n",
       "Land Slope               Gtl\n",
       "Neighborhood          Timber\n",
       "Condition 1             Norm\n",
       "Condition 2             Norm\n",
       "Bldg Type               1Fam\n",
       "House Style           1Story\n",
       "Overall Qual               8\n",
       "Overall Cond               5\n",
       "Year Built              2006\n",
       "Year Remod/Add          2007\n",
       "Roof Style               Hip\n",
       "Roof Matl            CompShg\n",
       "Exterior 1st         VinylSd\n",
       "Exterior 2nd         VinylSd\n",
       "Mas Vnr Type            None\n",
       "Mas Vnr Area         99.6959\n",
       "Exter Qual                Gd\n",
       "Exter Cond                TA\n",
       "Foundation             PConc\n",
       "Bsmt Qual                  4\n",
       "Bsmt Cond                  3\n",
       "Bsmt Exposure              3\n",
       "BsmtFin Type 1             6\n",
       "BsmtFin SF 1             583\n",
       "BsmtFin Type 2             1\n",
       "BsmtFin SF 2               0\n",
       "Bsmt Unf SF              963\n",
       "Total Bsmt SF           1546\n",
       "Heating                 GasA\n",
       "Heating QC                Ex\n",
       "Central Air                Y\n",
       "Electrical             SBrkr\n",
       "1st Flr SF              1564\n",
       "2nd Flr SF                 0\n",
       "Low Qual Fin SF            0\n",
       "Gr Liv Area             1564\n",
       "Bsmt Full Bath             0\n",
       "Bsmt Half Bath             0\n",
       "Full Bath                  2\n",
       "Half Bath                  0\n",
       "Bedroom AbvGr              2\n",
       "Kitchen AbvGr              1\n",
       "Kitchen Qual              Ex\n",
       "TotRms AbvGrd              6\n",
       "Functional               Typ\n",
       "Fireplaces                 1\n",
       "Fireplace Qu               4\n",
       "Garage Type           Attchd\n",
       "Garage Yr Blt           2207\n",
       "Garage Finish              2\n",
       "Garage Cars                2\n",
       "Garage Area              502\n",
       "Garage Qual                3\n",
       "Garage Cond                3\n",
       "Paved Drive                Y\n",
       "Wood Deck SF             132\n",
       "Open Porch SF              0\n",
       "Enclosed Porch             0\n",
       "3Ssn Porch                 0\n",
       "Screen Porch               0\n",
       "Pool Area                  0\n",
       "Pool QC                    0\n",
       "Fence               No Fence\n",
       "Misc Feature            None\n",
       "Misc Val                   0\n",
       "Mo Sold                    9\n",
       "Yr Sold                 2007\n",
       "Sale Type                New\n",
       "SalePrice             267300\n",
       "Name: 1699, dtype: object"
      ]
     },
     "execution_count": 12,
     "metadata": {},
     "output_type": "execute_result"
    }
   ],
   "source": [
    "# Let's take a closer look at the 1699 row \n",
    "df.loc[1699, :]\n",
    "# Considering that the house was built in 2006 and remodeled in 2007. It is a safe assumption to make that 2207 should be 2007."
   ]
  },
  {
   "cell_type": "code",
   "execution_count": 13,
   "metadata": {},
   "outputs": [],
   "source": [
    "# Correcting the erroneous Garage year built datapoint \n",
    "df.loc[1699, 'Garage Yr Blt'] = 2007"
   ]
  },
  {
   "cell_type": "markdown",
   "metadata": {},
   "source": [
    "In order to be in an appropriate format to be included in a model, the data needs to be numeric.  \n",
    "As a result, more features need to be reformated."
   ]
  },
  {
   "cell_type": "code",
   "execution_count": 14,
   "metadata": {},
   "outputs": [],
   "source": [
    "# Creating function to reproduce data cleaning and formating: \n",
    "def format_model_prep(dataframe): \n",
    "    dataframe['Lot Shape'] = dataframe['Lot Shape'].map({'Reg': 0, 'IR1': 1, 'IR2': 2, 'IR3':3})\n",
    "    dataframe['Utilities'] = dataframe['Utilities'].map({'ELO': 1, 'NoSeWa': 2, 'NoSewr': 3, 'AllPub':4})\n",
    "    dataframe['Land Slope'] = dataframe['Land Slope'].map({'Gtl':1, 'Mod':2, 'Sev':3})\n",
    "    dataframe['Central Air'] = dataframe['Central Air'].map({'Y':1, 'N':0})\n",
    "    dataframe['Functional'] = dataframe['Functional'].map({'Sal':1, 'Sev':2, 'Maj2':3, 'Maj1':4, 'Mod':5, 'Min2':6, 'Min1':7, 'Typ':8})\n",
    "    dataframe['Heating QC'] = dataframe['Heating QC'].map({'Po':1, 'Fa':2, 'TA':3, 'Gd':4, 'Ex':5})\n",
    "    dataframe['Exter Qual'] = dataframe['Exter Qual'].map({'Po':1, 'Fa':2, 'TA':3, 'Gd':4, 'Ex':5})\n",
    "    dataframe['Exter Cond'] = dataframe['Exter Cond'].map({'Po':1, 'Fa':2, 'TA':3, 'Gd':4, 'Ex':5})\n",
    "    dataframe['Kitchen Qual'] = dataframe['Kitchen Qual'].map({'Po':1, 'Fa':2, 'TA':3, 'Gd':4, 'Ex':5})\n",
    "    dataframe['Paved Drive'] = dataframe['Paved Drive'].map({'N':0, 'P':1, 'Y':2})\n",
    "    dataframe['Age'] = dataframe['Yr Sold'] - df['Year Remod/Add']\n",
    "    dataframe['True TotRms AbvGrd'] =  dataframe['TotRms AbvGrd'] + df['Full Bath'] + df['Half Bath'] "
   ]
  },
  {
   "cell_type": "code",
   "execution_count": 15,
   "metadata": {},
   "outputs": [],
   "source": [
    "# Formating our dataframe:\n",
    "format_model_prep(df)"
   ]
  },
  {
   "cell_type": "code",
   "execution_count": 16,
   "metadata": {},
   "outputs": [
    {
     "data": {
      "text/plain": [
       "Id                     object\n",
       "PID                    object\n",
       "MS SubClass            object\n",
       "MS Zoning              object\n",
       "Lot Frontage          float64\n",
       "Lot Area                int64\n",
       "Street                 object\n",
       "Alley                  object\n",
       "Lot Shape               int64\n",
       "Land Contour           object\n",
       "Utilities               int64\n",
       "Lot Config             object\n",
       "Land Slope              int64\n",
       "Neighborhood           object\n",
       "Condition 1            object\n",
       "Condition 2            object\n",
       "Bldg Type              object\n",
       "House Style            object\n",
       "Overall Qual            int64\n",
       "Overall Cond            int64\n",
       "Year Built              int64\n",
       "Year Remod/Add          int64\n",
       "Roof Style             object\n",
       "Roof Matl              object\n",
       "Exterior 1st           object\n",
       "Exterior 2nd           object\n",
       "Mas Vnr Type           object\n",
       "Mas Vnr Area          float64\n",
       "Exter Qual              int64\n",
       "Exter Cond              int64\n",
       "Foundation             object\n",
       "Bsmt Qual               int64\n",
       "Bsmt Cond               int64\n",
       "Bsmt Exposure           int64\n",
       "BsmtFin Type 1          int64\n",
       "BsmtFin SF 1          float64\n",
       "BsmtFin Type 2          int64\n",
       "BsmtFin SF 2          float64\n",
       "Bsmt Unf SF           float64\n",
       "Total Bsmt SF         float64\n",
       "Heating                object\n",
       "Heating QC              int64\n",
       "Central Air             int64\n",
       "Electrical             object\n",
       "1st Flr SF              int64\n",
       "2nd Flr SF              int64\n",
       "Low Qual Fin SF         int64\n",
       "Gr Liv Area             int64\n",
       "Bsmt Full Bath        float64\n",
       "Bsmt Half Bath        float64\n",
       "Full Bath               int64\n",
       "Half Bath               int64\n",
       "Bedroom AbvGr           int64\n",
       "Kitchen AbvGr           int64\n",
       "Kitchen Qual            int64\n",
       "TotRms AbvGrd           int64\n",
       "Functional              int64\n",
       "Fireplaces              int64\n",
       "Fireplace Qu            int64\n",
       "Garage Type            object\n",
       "Garage Yr Blt         float64\n",
       "Garage Finish           int64\n",
       "Garage Cars           float64\n",
       "Garage Area           float64\n",
       "Garage Qual             int64\n",
       "Garage Cond             int64\n",
       "Paved Drive             int64\n",
       "Wood Deck SF            int64\n",
       "Open Porch SF           int64\n",
       "Enclosed Porch          int64\n",
       "3Ssn Porch              int64\n",
       "Screen Porch            int64\n",
       "Pool Area               int64\n",
       "Pool QC                 int64\n",
       "Fence                  object\n",
       "Misc Feature           object\n",
       "Misc Val                int64\n",
       "Mo Sold                 int64\n",
       "Yr Sold                 int64\n",
       "Sale Type              object\n",
       "SalePrice               int64\n",
       "Age                     int64\n",
       "True TotRms AbvGrd      int64\n",
       "dtype: object"
      ]
     },
     "execution_count": 16,
     "metadata": {},
     "output_type": "execute_result"
    }
   ],
   "source": [
    "# Confirming data types\n",
    "df.dtypes"
   ]
  },
  {
   "cell_type": "markdown",
   "metadata": {},
   "source": [
    "The data is now in appropriate type. "
   ]
  },
  {
   "cell_type": "code",
   "execution_count": 17,
   "metadata": {},
   "outputs": [
    {
     "data": {
      "text/html": [
       "<div>\n",
       "<style scoped>\n",
       "    .dataframe tbody tr th:only-of-type {\n",
       "        vertical-align: middle;\n",
       "    }\n",
       "\n",
       "    .dataframe tbody tr th {\n",
       "        vertical-align: top;\n",
       "    }\n",
       "\n",
       "    .dataframe thead th {\n",
       "        text-align: right;\n",
       "    }\n",
       "</style>\n",
       "<table border=\"1\" class=\"dataframe\">\n",
       "  <thead>\n",
       "    <tr style=\"text-align: right;\">\n",
       "      <th></th>\n",
       "      <th>Lot Frontage</th>\n",
       "      <th>Lot Area</th>\n",
       "      <th>Lot Shape</th>\n",
       "      <th>Utilities</th>\n",
       "      <th>Land Slope</th>\n",
       "      <th>Overall Qual</th>\n",
       "      <th>Overall Cond</th>\n",
       "      <th>Year Built</th>\n",
       "      <th>Year Remod/Add</th>\n",
       "      <th>Mas Vnr Area</th>\n",
       "      <th>Exter Qual</th>\n",
       "      <th>Exter Cond</th>\n",
       "      <th>Bsmt Qual</th>\n",
       "      <th>Bsmt Cond</th>\n",
       "      <th>Bsmt Exposure</th>\n",
       "      <th>BsmtFin Type 1</th>\n",
       "      <th>BsmtFin SF 1</th>\n",
       "      <th>BsmtFin Type 2</th>\n",
       "      <th>BsmtFin SF 2</th>\n",
       "      <th>Bsmt Unf SF</th>\n",
       "      <th>Total Bsmt SF</th>\n",
       "      <th>Heating QC</th>\n",
       "      <th>Central Air</th>\n",
       "      <th>1st Flr SF</th>\n",
       "      <th>2nd Flr SF</th>\n",
       "      <th>Low Qual Fin SF</th>\n",
       "      <th>Gr Liv Area</th>\n",
       "      <th>Bsmt Full Bath</th>\n",
       "      <th>Bsmt Half Bath</th>\n",
       "      <th>Full Bath</th>\n",
       "      <th>Half Bath</th>\n",
       "      <th>Bedroom AbvGr</th>\n",
       "      <th>Kitchen AbvGr</th>\n",
       "      <th>Kitchen Qual</th>\n",
       "      <th>TotRms AbvGrd</th>\n",
       "      <th>Functional</th>\n",
       "      <th>Fireplaces</th>\n",
       "      <th>Fireplace Qu</th>\n",
       "      <th>Garage Yr Blt</th>\n",
       "      <th>Garage Finish</th>\n",
       "      <th>Garage Cars</th>\n",
       "      <th>Garage Area</th>\n",
       "      <th>Garage Qual</th>\n",
       "      <th>Garage Cond</th>\n",
       "      <th>Paved Drive</th>\n",
       "      <th>Wood Deck SF</th>\n",
       "      <th>Open Porch SF</th>\n",
       "      <th>Enclosed Porch</th>\n",
       "      <th>3Ssn Porch</th>\n",
       "      <th>Screen Porch</th>\n",
       "      <th>Pool Area</th>\n",
       "      <th>Pool QC</th>\n",
       "      <th>Misc Val</th>\n",
       "      <th>Mo Sold</th>\n",
       "      <th>Yr Sold</th>\n",
       "      <th>SalePrice</th>\n",
       "      <th>Age</th>\n",
       "      <th>True TotRms AbvGrd</th>\n",
       "    </tr>\n",
       "  </thead>\n",
       "  <tbody>\n",
       "    <tr>\n",
       "      <th>count</th>\n",
       "      <td>2051.000000</td>\n",
       "      <td>2051.000000</td>\n",
       "      <td>2051.000000</td>\n",
       "      <td>2051.000000</td>\n",
       "      <td>2051.000000</td>\n",
       "      <td>2051.000000</td>\n",
       "      <td>2051.000000</td>\n",
       "      <td>2051.000000</td>\n",
       "      <td>2051.000000</td>\n",
       "      <td>2051.000000</td>\n",
       "      <td>2051.000000</td>\n",
       "      <td>2051.000000</td>\n",
       "      <td>2051.000000</td>\n",
       "      <td>2051.000000</td>\n",
       "      <td>2051.000000</td>\n",
       "      <td>2051.000000</td>\n",
       "      <td>2051.000000</td>\n",
       "      <td>2051.000000</td>\n",
       "      <td>2051.000000</td>\n",
       "      <td>2051.000000</td>\n",
       "      <td>2051.000000</td>\n",
       "      <td>2051.000000</td>\n",
       "      <td>2051.000000</td>\n",
       "      <td>2051.000000</td>\n",
       "      <td>2051.000000</td>\n",
       "      <td>2051.000000</td>\n",
       "      <td>2051.000000</td>\n",
       "      <td>2051.000000</td>\n",
       "      <td>2051.000000</td>\n",
       "      <td>2051.000000</td>\n",
       "      <td>2051.000000</td>\n",
       "      <td>2051.000000</td>\n",
       "      <td>2051.000000</td>\n",
       "      <td>2051.000000</td>\n",
       "      <td>2051.000000</td>\n",
       "      <td>2051.000000</td>\n",
       "      <td>2051.000000</td>\n",
       "      <td>2051.000000</td>\n",
       "      <td>2051.000000</td>\n",
       "      <td>2051.000000</td>\n",
       "      <td>2051.000000</td>\n",
       "      <td>2051.000000</td>\n",
       "      <td>2051.000000</td>\n",
       "      <td>2051.000000</td>\n",
       "      <td>2051.000000</td>\n",
       "      <td>2051.000000</td>\n",
       "      <td>2051.000000</td>\n",
       "      <td>2051.000000</td>\n",
       "      <td>2051.000000</td>\n",
       "      <td>2051.000000</td>\n",
       "      <td>2051.000000</td>\n",
       "      <td>2051.000000</td>\n",
       "      <td>2051.000000</td>\n",
       "      <td>2051.000000</td>\n",
       "      <td>2051.000000</td>\n",
       "      <td>2051.000000</td>\n",
       "      <td>2051.000000</td>\n",
       "      <td>2051.000000</td>\n",
       "    </tr>\n",
       "    <tr>\n",
       "      <th>mean</th>\n",
       "      <td>69.055200</td>\n",
       "      <td>10065.208191</td>\n",
       "      <td>0.404193</td>\n",
       "      <td>3.998537</td>\n",
       "      <td>1.052657</td>\n",
       "      <td>6.112140</td>\n",
       "      <td>5.562165</td>\n",
       "      <td>1971.708922</td>\n",
       "      <td>1984.190151</td>\n",
       "      <td>99.695909</td>\n",
       "      <td>3.406143</td>\n",
       "      <td>3.085812</td>\n",
       "      <td>3.490005</td>\n",
       "      <td>2.929303</td>\n",
       "      <td>1.628961</td>\n",
       "      <td>3.564603</td>\n",
       "      <td>442.300488</td>\n",
       "      <td>1.274500</td>\n",
       "      <td>47.959024</td>\n",
       "      <td>567.728293</td>\n",
       "      <td>1057.987805</td>\n",
       "      <td>4.158459</td>\n",
       "      <td>0.931253</td>\n",
       "      <td>1164.488055</td>\n",
       "      <td>329.329108</td>\n",
       "      <td>5.512921</td>\n",
       "      <td>1499.330083</td>\n",
       "      <td>0.427526</td>\n",
       "      <td>0.063446</td>\n",
       "      <td>1.577279</td>\n",
       "      <td>0.371039</td>\n",
       "      <td>2.843491</td>\n",
       "      <td>1.042906</td>\n",
       "      <td>3.517309</td>\n",
       "      <td>6.435885</td>\n",
       "      <td>7.843003</td>\n",
       "      <td>0.590931</td>\n",
       "      <td>1.763530</td>\n",
       "      <td>1978.610282</td>\n",
       "      <td>1.723062</td>\n",
       "      <td>1.776585</td>\n",
       "      <td>473.671707</td>\n",
       "      <td>2.803023</td>\n",
       "      <td>2.810336</td>\n",
       "      <td>1.833740</td>\n",
       "      <td>93.833740</td>\n",
       "      <td>47.556802</td>\n",
       "      <td>22.571916</td>\n",
       "      <td>2.591419</td>\n",
       "      <td>16.511458</td>\n",
       "      <td>2.397855</td>\n",
       "      <td>0.010726</td>\n",
       "      <td>51.574354</td>\n",
       "      <td>6.219893</td>\n",
       "      <td>2007.775719</td>\n",
       "      <td>181469.701609</td>\n",
       "      <td>23.585568</td>\n",
       "      <td>8.384203</td>\n",
       "    </tr>\n",
       "    <tr>\n",
       "      <th>std</th>\n",
       "      <td>21.306357</td>\n",
       "      <td>6742.488909</td>\n",
       "      <td>0.566514</td>\n",
       "      <td>0.049365</td>\n",
       "      <td>0.244264</td>\n",
       "      <td>1.426271</td>\n",
       "      <td>1.104497</td>\n",
       "      <td>30.177889</td>\n",
       "      <td>21.036250</td>\n",
       "      <td>174.021770</td>\n",
       "      <td>0.587962</td>\n",
       "      <td>0.372792</td>\n",
       "      <td>0.901637</td>\n",
       "      <td>0.572009</td>\n",
       "      <td>1.079440</td>\n",
       "      <td>2.125592</td>\n",
       "      <td>461.091621</td>\n",
       "      <td>0.949571</td>\n",
       "      <td>164.960652</td>\n",
       "      <td>444.846247</td>\n",
       "      <td>449.301078</td>\n",
       "      <td>0.964112</td>\n",
       "      <td>0.253085</td>\n",
       "      <td>396.446923</td>\n",
       "      <td>425.671046</td>\n",
       "      <td>51.068870</td>\n",
       "      <td>500.447829</td>\n",
       "      <td>0.522418</td>\n",
       "      <td>0.251582</td>\n",
       "      <td>0.549279</td>\n",
       "      <td>0.501043</td>\n",
       "      <td>0.826618</td>\n",
       "      <td>0.209790</td>\n",
       "      <td>0.665577</td>\n",
       "      <td>1.560225</td>\n",
       "      <td>0.683409</td>\n",
       "      <td>0.638516</td>\n",
       "      <td>1.807074</td>\n",
       "      <td>24.211852</td>\n",
       "      <td>0.898969</td>\n",
       "      <td>0.764351</td>\n",
       "      <td>215.881887</td>\n",
       "      <td>0.721253</td>\n",
       "      <td>0.716094</td>\n",
       "      <td>0.534792</td>\n",
       "      <td>128.549416</td>\n",
       "      <td>66.747241</td>\n",
       "      <td>59.845110</td>\n",
       "      <td>25.229615</td>\n",
       "      <td>57.374204</td>\n",
       "      <td>37.782570</td>\n",
       "      <td>0.173576</td>\n",
       "      <td>573.393985</td>\n",
       "      <td>2.744736</td>\n",
       "      <td>1.312014</td>\n",
       "      <td>79258.659352</td>\n",
       "      <td>21.021078</td>\n",
       "      <td>2.119739</td>\n",
       "    </tr>\n",
       "    <tr>\n",
       "      <th>min</th>\n",
       "      <td>21.000000</td>\n",
       "      <td>1300.000000</td>\n",
       "      <td>0.000000</td>\n",
       "      <td>2.000000</td>\n",
       "      <td>1.000000</td>\n",
       "      <td>1.000000</td>\n",
       "      <td>1.000000</td>\n",
       "      <td>1872.000000</td>\n",
       "      <td>1950.000000</td>\n",
       "      <td>0.000000</td>\n",
       "      <td>2.000000</td>\n",
       "      <td>1.000000</td>\n",
       "      <td>0.000000</td>\n",
       "      <td>0.000000</td>\n",
       "      <td>0.000000</td>\n",
       "      <td>0.000000</td>\n",
       "      <td>0.000000</td>\n",
       "      <td>0.000000</td>\n",
       "      <td>0.000000</td>\n",
       "      <td>0.000000</td>\n",
       "      <td>0.000000</td>\n",
       "      <td>1.000000</td>\n",
       "      <td>0.000000</td>\n",
       "      <td>334.000000</td>\n",
       "      <td>0.000000</td>\n",
       "      <td>0.000000</td>\n",
       "      <td>334.000000</td>\n",
       "      <td>0.000000</td>\n",
       "      <td>0.000000</td>\n",
       "      <td>0.000000</td>\n",
       "      <td>0.000000</td>\n",
       "      <td>0.000000</td>\n",
       "      <td>0.000000</td>\n",
       "      <td>2.000000</td>\n",
       "      <td>2.000000</td>\n",
       "      <td>1.000000</td>\n",
       "      <td>0.000000</td>\n",
       "      <td>0.000000</td>\n",
       "      <td>1895.000000</td>\n",
       "      <td>0.000000</td>\n",
       "      <td>0.000000</td>\n",
       "      <td>0.000000</td>\n",
       "      <td>0.000000</td>\n",
       "      <td>0.000000</td>\n",
       "      <td>0.000000</td>\n",
       "      <td>0.000000</td>\n",
       "      <td>0.000000</td>\n",
       "      <td>0.000000</td>\n",
       "      <td>0.000000</td>\n",
       "      <td>0.000000</td>\n",
       "      <td>0.000000</td>\n",
       "      <td>0.000000</td>\n",
       "      <td>0.000000</td>\n",
       "      <td>1.000000</td>\n",
       "      <td>2006.000000</td>\n",
       "      <td>12789.000000</td>\n",
       "      <td>-2.000000</td>\n",
       "      <td>3.000000</td>\n",
       "    </tr>\n",
       "    <tr>\n",
       "      <th>25%</th>\n",
       "      <td>60.000000</td>\n",
       "      <td>7500.000000</td>\n",
       "      <td>0.000000</td>\n",
       "      <td>4.000000</td>\n",
       "      <td>1.000000</td>\n",
       "      <td>5.000000</td>\n",
       "      <td>5.000000</td>\n",
       "      <td>1953.500000</td>\n",
       "      <td>1964.500000</td>\n",
       "      <td>0.000000</td>\n",
       "      <td>3.000000</td>\n",
       "      <td>3.000000</td>\n",
       "      <td>3.000000</td>\n",
       "      <td>3.000000</td>\n",
       "      <td>1.000000</td>\n",
       "      <td>1.000000</td>\n",
       "      <td>0.000000</td>\n",
       "      <td>1.000000</td>\n",
       "      <td>0.000000</td>\n",
       "      <td>220.000000</td>\n",
       "      <td>793.000000</td>\n",
       "      <td>3.000000</td>\n",
       "      <td>1.000000</td>\n",
       "      <td>879.500000</td>\n",
       "      <td>0.000000</td>\n",
       "      <td>0.000000</td>\n",
       "      <td>1129.000000</td>\n",
       "      <td>0.000000</td>\n",
       "      <td>0.000000</td>\n",
       "      <td>1.000000</td>\n",
       "      <td>0.000000</td>\n",
       "      <td>2.000000</td>\n",
       "      <td>1.000000</td>\n",
       "      <td>3.000000</td>\n",
       "      <td>5.000000</td>\n",
       "      <td>8.000000</td>\n",
       "      <td>0.000000</td>\n",
       "      <td>0.000000</td>\n",
       "      <td>1962.000000</td>\n",
       "      <td>1.000000</td>\n",
       "      <td>1.000000</td>\n",
       "      <td>319.000000</td>\n",
       "      <td>3.000000</td>\n",
       "      <td>3.000000</td>\n",
       "      <td>2.000000</td>\n",
       "      <td>0.000000</td>\n",
       "      <td>0.000000</td>\n",
       "      <td>0.000000</td>\n",
       "      <td>0.000000</td>\n",
       "      <td>0.000000</td>\n",
       "      <td>0.000000</td>\n",
       "      <td>0.000000</td>\n",
       "      <td>0.000000</td>\n",
       "      <td>4.000000</td>\n",
       "      <td>2007.000000</td>\n",
       "      <td>129825.000000</td>\n",
       "      <td>4.000000</td>\n",
       "      <td>7.000000</td>\n",
       "    </tr>\n",
       "    <tr>\n",
       "      <th>50%</th>\n",
       "      <td>69.055200</td>\n",
       "      <td>9430.000000</td>\n",
       "      <td>0.000000</td>\n",
       "      <td>4.000000</td>\n",
       "      <td>1.000000</td>\n",
       "      <td>6.000000</td>\n",
       "      <td>5.000000</td>\n",
       "      <td>1974.000000</td>\n",
       "      <td>1993.000000</td>\n",
       "      <td>0.000000</td>\n",
       "      <td>3.000000</td>\n",
       "      <td>3.000000</td>\n",
       "      <td>4.000000</td>\n",
       "      <td>3.000000</td>\n",
       "      <td>1.000000</td>\n",
       "      <td>4.000000</td>\n",
       "      <td>368.000000</td>\n",
       "      <td>1.000000</td>\n",
       "      <td>0.000000</td>\n",
       "      <td>475.000000</td>\n",
       "      <td>995.000000</td>\n",
       "      <td>5.000000</td>\n",
       "      <td>1.000000</td>\n",
       "      <td>1093.000000</td>\n",
       "      <td>0.000000</td>\n",
       "      <td>0.000000</td>\n",
       "      <td>1444.000000</td>\n",
       "      <td>0.000000</td>\n",
       "      <td>0.000000</td>\n",
       "      <td>2.000000</td>\n",
       "      <td>0.000000</td>\n",
       "      <td>3.000000</td>\n",
       "      <td>1.000000</td>\n",
       "      <td>3.000000</td>\n",
       "      <td>6.000000</td>\n",
       "      <td>8.000000</td>\n",
       "      <td>1.000000</td>\n",
       "      <td>1.000000</td>\n",
       "      <td>1978.707796</td>\n",
       "      <td>2.000000</td>\n",
       "      <td>2.000000</td>\n",
       "      <td>480.000000</td>\n",
       "      <td>3.000000</td>\n",
       "      <td>3.000000</td>\n",
       "      <td>2.000000</td>\n",
       "      <td>0.000000</td>\n",
       "      <td>27.000000</td>\n",
       "      <td>0.000000</td>\n",
       "      <td>0.000000</td>\n",
       "      <td>0.000000</td>\n",
       "      <td>0.000000</td>\n",
       "      <td>0.000000</td>\n",
       "      <td>0.000000</td>\n",
       "      <td>6.000000</td>\n",
       "      <td>2008.000000</td>\n",
       "      <td>162500.000000</td>\n",
       "      <td>15.000000</td>\n",
       "      <td>8.000000</td>\n",
       "    </tr>\n",
       "    <tr>\n",
       "      <th>75%</th>\n",
       "      <td>78.000000</td>\n",
       "      <td>11513.500000</td>\n",
       "      <td>1.000000</td>\n",
       "      <td>4.000000</td>\n",
       "      <td>1.000000</td>\n",
       "      <td>7.000000</td>\n",
       "      <td>6.000000</td>\n",
       "      <td>2001.000000</td>\n",
       "      <td>2004.000000</td>\n",
       "      <td>159.000000</td>\n",
       "      <td>4.000000</td>\n",
       "      <td>3.000000</td>\n",
       "      <td>4.000000</td>\n",
       "      <td>3.000000</td>\n",
       "      <td>2.000000</td>\n",
       "      <td>6.000000</td>\n",
       "      <td>733.500000</td>\n",
       "      <td>1.000000</td>\n",
       "      <td>0.000000</td>\n",
       "      <td>811.000000</td>\n",
       "      <td>1318.500000</td>\n",
       "      <td>5.000000</td>\n",
       "      <td>1.000000</td>\n",
       "      <td>1405.000000</td>\n",
       "      <td>692.500000</td>\n",
       "      <td>0.000000</td>\n",
       "      <td>1728.500000</td>\n",
       "      <td>1.000000</td>\n",
       "      <td>0.000000</td>\n",
       "      <td>2.000000</td>\n",
       "      <td>1.000000</td>\n",
       "      <td>3.000000</td>\n",
       "      <td>1.000000</td>\n",
       "      <td>4.000000</td>\n",
       "      <td>7.000000</td>\n",
       "      <td>8.000000</td>\n",
       "      <td>1.000000</td>\n",
       "      <td>4.000000</td>\n",
       "      <td>2001.000000</td>\n",
       "      <td>2.000000</td>\n",
       "      <td>2.000000</td>\n",
       "      <td>576.000000</td>\n",
       "      <td>3.000000</td>\n",
       "      <td>3.000000</td>\n",
       "      <td>2.000000</td>\n",
       "      <td>168.000000</td>\n",
       "      <td>70.000000</td>\n",
       "      <td>0.000000</td>\n",
       "      <td>0.000000</td>\n",
       "      <td>0.000000</td>\n",
       "      <td>0.000000</td>\n",
       "      <td>0.000000</td>\n",
       "      <td>0.000000</td>\n",
       "      <td>8.000000</td>\n",
       "      <td>2009.000000</td>\n",
       "      <td>214000.000000</td>\n",
       "      <td>43.000000</td>\n",
       "      <td>10.000000</td>\n",
       "    </tr>\n",
       "    <tr>\n",
       "      <th>max</th>\n",
       "      <td>313.000000</td>\n",
       "      <td>159000.000000</td>\n",
       "      <td>3.000000</td>\n",
       "      <td>4.000000</td>\n",
       "      <td>3.000000</td>\n",
       "      <td>10.000000</td>\n",
       "      <td>9.000000</td>\n",
       "      <td>2010.000000</td>\n",
       "      <td>2010.000000</td>\n",
       "      <td>1600.000000</td>\n",
       "      <td>5.000000</td>\n",
       "      <td>5.000000</td>\n",
       "      <td>5.000000</td>\n",
       "      <td>5.000000</td>\n",
       "      <td>4.000000</td>\n",
       "      <td>6.000000</td>\n",
       "      <td>5644.000000</td>\n",
       "      <td>6.000000</td>\n",
       "      <td>1474.000000</td>\n",
       "      <td>2336.000000</td>\n",
       "      <td>6110.000000</td>\n",
       "      <td>5.000000</td>\n",
       "      <td>1.000000</td>\n",
       "      <td>5095.000000</td>\n",
       "      <td>1862.000000</td>\n",
       "      <td>1064.000000</td>\n",
       "      <td>5642.000000</td>\n",
       "      <td>3.000000</td>\n",
       "      <td>2.000000</td>\n",
       "      <td>4.000000</td>\n",
       "      <td>2.000000</td>\n",
       "      <td>8.000000</td>\n",
       "      <td>3.000000</td>\n",
       "      <td>5.000000</td>\n",
       "      <td>15.000000</td>\n",
       "      <td>8.000000</td>\n",
       "      <td>4.000000</td>\n",
       "      <td>5.000000</td>\n",
       "      <td>2010.000000</td>\n",
       "      <td>3.000000</td>\n",
       "      <td>5.000000</td>\n",
       "      <td>1418.000000</td>\n",
       "      <td>5.000000</td>\n",
       "      <td>5.000000</td>\n",
       "      <td>2.000000</td>\n",
       "      <td>1424.000000</td>\n",
       "      <td>547.000000</td>\n",
       "      <td>432.000000</td>\n",
       "      <td>508.000000</td>\n",
       "      <td>490.000000</td>\n",
       "      <td>800.000000</td>\n",
       "      <td>4.000000</td>\n",
       "      <td>17000.000000</td>\n",
       "      <td>12.000000</td>\n",
       "      <td>2010.000000</td>\n",
       "      <td>611657.000000</td>\n",
       "      <td>60.000000</td>\n",
       "      <td>18.000000</td>\n",
       "    </tr>\n",
       "  </tbody>\n",
       "</table>\n",
       "</div>"
      ],
      "text/plain": [
       "       Lot Frontage       Lot Area    Lot Shape    Utilities   Land Slope  \\\n",
       "count   2051.000000    2051.000000  2051.000000  2051.000000  2051.000000   \n",
       "mean      69.055200   10065.208191     0.404193     3.998537     1.052657   \n",
       "std       21.306357    6742.488909     0.566514     0.049365     0.244264   \n",
       "min       21.000000    1300.000000     0.000000     2.000000     1.000000   \n",
       "25%       60.000000    7500.000000     0.000000     4.000000     1.000000   \n",
       "50%       69.055200    9430.000000     0.000000     4.000000     1.000000   \n",
       "75%       78.000000   11513.500000     1.000000     4.000000     1.000000   \n",
       "max      313.000000  159000.000000     3.000000     4.000000     3.000000   \n",
       "\n",
       "       Overall Qual  Overall Cond   Year Built  Year Remod/Add  Mas Vnr Area  \\\n",
       "count   2051.000000   2051.000000  2051.000000     2051.000000   2051.000000   \n",
       "mean       6.112140      5.562165  1971.708922     1984.190151     99.695909   \n",
       "std        1.426271      1.104497    30.177889       21.036250    174.021770   \n",
       "min        1.000000      1.000000  1872.000000     1950.000000      0.000000   \n",
       "25%        5.000000      5.000000  1953.500000     1964.500000      0.000000   \n",
       "50%        6.000000      5.000000  1974.000000     1993.000000      0.000000   \n",
       "75%        7.000000      6.000000  2001.000000     2004.000000    159.000000   \n",
       "max       10.000000      9.000000  2010.000000     2010.000000   1600.000000   \n",
       "\n",
       "        Exter Qual   Exter Cond    Bsmt Qual    Bsmt Cond  Bsmt Exposure  \\\n",
       "count  2051.000000  2051.000000  2051.000000  2051.000000    2051.000000   \n",
       "mean      3.406143     3.085812     3.490005     2.929303       1.628961   \n",
       "std       0.587962     0.372792     0.901637     0.572009       1.079440   \n",
       "min       2.000000     1.000000     0.000000     0.000000       0.000000   \n",
       "25%       3.000000     3.000000     3.000000     3.000000       1.000000   \n",
       "50%       3.000000     3.000000     4.000000     3.000000       1.000000   \n",
       "75%       4.000000     3.000000     4.000000     3.000000       2.000000   \n",
       "max       5.000000     5.000000     5.000000     5.000000       4.000000   \n",
       "\n",
       "       BsmtFin Type 1  BsmtFin SF 1  BsmtFin Type 2  BsmtFin SF 2  \\\n",
       "count     2051.000000   2051.000000     2051.000000   2051.000000   \n",
       "mean         3.564603    442.300488        1.274500     47.959024   \n",
       "std          2.125592    461.091621        0.949571    164.960652   \n",
       "min          0.000000      0.000000        0.000000      0.000000   \n",
       "25%          1.000000      0.000000        1.000000      0.000000   \n",
       "50%          4.000000    368.000000        1.000000      0.000000   \n",
       "75%          6.000000    733.500000        1.000000      0.000000   \n",
       "max          6.000000   5644.000000        6.000000   1474.000000   \n",
       "\n",
       "       Bsmt Unf SF  Total Bsmt SF   Heating QC  Central Air   1st Flr SF  \\\n",
       "count  2051.000000    2051.000000  2051.000000  2051.000000  2051.000000   \n",
       "mean    567.728293    1057.987805     4.158459     0.931253  1164.488055   \n",
       "std     444.846247     449.301078     0.964112     0.253085   396.446923   \n",
       "min       0.000000       0.000000     1.000000     0.000000   334.000000   \n",
       "25%     220.000000     793.000000     3.000000     1.000000   879.500000   \n",
       "50%     475.000000     995.000000     5.000000     1.000000  1093.000000   \n",
       "75%     811.000000    1318.500000     5.000000     1.000000  1405.000000   \n",
       "max    2336.000000    6110.000000     5.000000     1.000000  5095.000000   \n",
       "\n",
       "        2nd Flr SF  Low Qual Fin SF  Gr Liv Area  Bsmt Full Bath  \\\n",
       "count  2051.000000      2051.000000  2051.000000     2051.000000   \n",
       "mean    329.329108         5.512921  1499.330083        0.427526   \n",
       "std     425.671046        51.068870   500.447829        0.522418   \n",
       "min       0.000000         0.000000   334.000000        0.000000   \n",
       "25%       0.000000         0.000000  1129.000000        0.000000   \n",
       "50%       0.000000         0.000000  1444.000000        0.000000   \n",
       "75%     692.500000         0.000000  1728.500000        1.000000   \n",
       "max    1862.000000      1064.000000  5642.000000        3.000000   \n",
       "\n",
       "       Bsmt Half Bath    Full Bath    Half Bath  Bedroom AbvGr  Kitchen AbvGr  \\\n",
       "count     2051.000000  2051.000000  2051.000000    2051.000000    2051.000000   \n",
       "mean         0.063446     1.577279     0.371039       2.843491       1.042906   \n",
       "std          0.251582     0.549279     0.501043       0.826618       0.209790   \n",
       "min          0.000000     0.000000     0.000000       0.000000       0.000000   \n",
       "25%          0.000000     1.000000     0.000000       2.000000       1.000000   \n",
       "50%          0.000000     2.000000     0.000000       3.000000       1.000000   \n",
       "75%          0.000000     2.000000     1.000000       3.000000       1.000000   \n",
       "max          2.000000     4.000000     2.000000       8.000000       3.000000   \n",
       "\n",
       "       Kitchen Qual  TotRms AbvGrd   Functional   Fireplaces  Fireplace Qu  \\\n",
       "count   2051.000000    2051.000000  2051.000000  2051.000000   2051.000000   \n",
       "mean       3.517309       6.435885     7.843003     0.590931      1.763530   \n",
       "std        0.665577       1.560225     0.683409     0.638516      1.807074   \n",
       "min        2.000000       2.000000     1.000000     0.000000      0.000000   \n",
       "25%        3.000000       5.000000     8.000000     0.000000      0.000000   \n",
       "50%        3.000000       6.000000     8.000000     1.000000      1.000000   \n",
       "75%        4.000000       7.000000     8.000000     1.000000      4.000000   \n",
       "max        5.000000      15.000000     8.000000     4.000000      5.000000   \n",
       "\n",
       "       Garage Yr Blt  Garage Finish  Garage Cars  Garage Area  Garage Qual  \\\n",
       "count    2051.000000    2051.000000  2051.000000  2051.000000  2051.000000   \n",
       "mean     1978.610282       1.723062     1.776585   473.671707     2.803023   \n",
       "std        24.211852       0.898969     0.764351   215.881887     0.721253   \n",
       "min      1895.000000       0.000000     0.000000     0.000000     0.000000   \n",
       "25%      1962.000000       1.000000     1.000000   319.000000     3.000000   \n",
       "50%      1978.707796       2.000000     2.000000   480.000000     3.000000   \n",
       "75%      2001.000000       2.000000     2.000000   576.000000     3.000000   \n",
       "max      2010.000000       3.000000     5.000000  1418.000000     5.000000   \n",
       "\n",
       "       Garage Cond  Paved Drive  Wood Deck SF  Open Porch SF  Enclosed Porch  \\\n",
       "count  2051.000000  2051.000000   2051.000000    2051.000000     2051.000000   \n",
       "mean      2.810336     1.833740     93.833740      47.556802       22.571916   \n",
       "std       0.716094     0.534792    128.549416      66.747241       59.845110   \n",
       "min       0.000000     0.000000      0.000000       0.000000        0.000000   \n",
       "25%       3.000000     2.000000      0.000000       0.000000        0.000000   \n",
       "50%       3.000000     2.000000      0.000000      27.000000        0.000000   \n",
       "75%       3.000000     2.000000    168.000000      70.000000        0.000000   \n",
       "max       5.000000     2.000000   1424.000000     547.000000      432.000000   \n",
       "\n",
       "        3Ssn Porch  Screen Porch    Pool Area      Pool QC      Misc Val  \\\n",
       "count  2051.000000   2051.000000  2051.000000  2051.000000   2051.000000   \n",
       "mean      2.591419     16.511458     2.397855     0.010726     51.574354   \n",
       "std      25.229615     57.374204    37.782570     0.173576    573.393985   \n",
       "min       0.000000      0.000000     0.000000     0.000000      0.000000   \n",
       "25%       0.000000      0.000000     0.000000     0.000000      0.000000   \n",
       "50%       0.000000      0.000000     0.000000     0.000000      0.000000   \n",
       "75%       0.000000      0.000000     0.000000     0.000000      0.000000   \n",
       "max     508.000000    490.000000   800.000000     4.000000  17000.000000   \n",
       "\n",
       "           Mo Sold      Yr Sold      SalePrice          Age  \\\n",
       "count  2051.000000  2051.000000    2051.000000  2051.000000   \n",
       "mean      6.219893  2007.775719  181469.701609    23.585568   \n",
       "std       2.744736     1.312014   79258.659352    21.021078   \n",
       "min       1.000000  2006.000000   12789.000000    -2.000000   \n",
       "25%       4.000000  2007.000000  129825.000000     4.000000   \n",
       "50%       6.000000  2008.000000  162500.000000    15.000000   \n",
       "75%       8.000000  2009.000000  214000.000000    43.000000   \n",
       "max      12.000000  2010.000000  611657.000000    60.000000   \n",
       "\n",
       "       True TotRms AbvGrd  \n",
       "count         2051.000000  \n",
       "mean             8.384203  \n",
       "std              2.119739  \n",
       "min              3.000000  \n",
       "25%              7.000000  \n",
       "50%              8.000000  \n",
       "75%             10.000000  \n",
       "max             18.000000  "
      ]
     },
     "execution_count": 17,
     "metadata": {},
     "output_type": "execute_result"
    }
   ],
   "source": [
    "# Confirming the format\n",
    "df.describe()"
   ]
  },
  {
   "cell_type": "code",
   "execution_count": 18,
   "metadata": {},
   "outputs": [
    {
     "data": {
      "text/plain": [
       "(2051, 83)"
      ]
     },
     "execution_count": 18,
     "metadata": {},
     "output_type": "execute_result"
    }
   ],
   "source": [
    "df.shape"
   ]
  },
  {
   "cell_type": "markdown",
   "metadata": {},
   "source": [
    "## EDA"
   ]
  },
  {
   "cell_type": "code",
   "execution_count": 21,
   "metadata": {
    "scrolled": false
   },
   "outputs": [
    {
     "data": {
      "image/png": "[encoded data removed]",
      "text/plain": [
       "<Figure size 576x1080 with 2 Axes>"
      ]
     },
     "metadata": {
      "needs_background": "light"
     },
     "output_type": "display_data"
    }
   ],
   "source": [
    "# Correlation heatmap to identify features with strongest correlation to our target \n",
    "plt.figure(figsize=(8, 15))\n",
    "sns.heatmap(df.corr()[['SalePrice']].sort_values('SalePrice', ascending=False), \n",
    "            cmap='coolwarm',\n",
    "            vmin=-1,\n",
    "            vmax=1,\n",
    "            annot=True);\n",
    "plt.title('Correlation Coefficient Between Each Numeric Feature and Sale Price', size=15);\n",
    "# Code for this graph has been adapted from Riley Dallas' code"
   ]
  },
  {
   "cell_type": "markdown",
   "metadata": {},
   "source": [
    "**Interpretation**: The 10 numerical features with the highest correlation with Sale Price:  \n",
    "1. Overall Quality \n",
    "1. External Quality\n",
    "1. Above ground living area Sq Ft(Gr Liv Area)  \n",
    "1. Kitchen Quality\n",
    "1. Garage Area  \n",
    "1. Garage Cars  \n",
    "1. Total Basement Sq Ft\n",
    "1. 1st Floor Sq Ft\n",
    "1. Basement Quality\n",
    "1. True Total Rooms Above Ground (True TotRms AbvGrd)\n",
    "\n",
    "Note:\n",
    "- Our employees should pay particular attention to those features during monthly assessments.  \n",
    "- We will focus on those 10 features for further EDA/visualization. (More features were investigated during our original EDA, however since the trends observed are similar to the top 10 features we will only include those here). "
   ]
  },
  {
   "cell_type": "code",
   "execution_count": 22,
   "metadata": {},
   "outputs": [],
   "source": [
    "# Creating a list with the 10 features mentioned above:\n",
    "features_num = ['Overall Qual', 'Exter Qual', 'Gr Liv Area', 'Kitchen Qual', 'Garage Area', 'Garage Cars', \n",
    "                'Total Bsmt SF', '1st Flr SF', 'Bsmt Qual', 'True TotRms AbvGrd']"
   ]
  },
  {
   "cell_type": "code",
   "execution_count": 23,
   "metadata": {
    "scrolled": false
   },
   "outputs": [
    {
     "data": {
      "image/png": "[encoded data removed]",
      "text/plain": [
       "<Figure size 1440x504 with 10 Axes>"
      ]
     },
     "metadata": {
      "needs_background": "light"
     },
     "output_type": "display_data"
    }
   ],
   "source": [
    "# Creating scatter plots to visualize the relationship between the top 10 numeric features and our target Sale Price:\n",
    "cols = features_num\n",
    "fig, axes = plt.subplots(figsize = (20,7), nrows = 2, ncols = 5)\n",
    "fig.suptitle(\"Top 10 Numeric Features vs. Sale Price\", fontsize = 24, y = 1.1)\n",
    "\n",
    "axes = axes.flatten()\n",
    "\n",
    "for i, col in enumerate(cols):\n",
    "    ax = axes[i]\n",
    "    ax.scatter(df[col], df[\"SalePrice\"])\n",
    "    ax.set_ylabel(\"Sale Price\")\n",
    "    ax.set_xlabel(col)\n",
    "    ax.set_title(f\"{col} vs. Sale Price\")\n",
    "\n",
    "plt.tight_layout()\n",
    "#Code adapted from Mahdi Shadkam-Farrokhi's bonus visualization local lesson for GA DSI 11"
   ]
  },
  {
   "cell_type": "markdown",
   "metadata": {},
   "source": [
    "**Interpretation:**  \n",
    "Only Overall quality, above ground living area (Gr Liv Area), Garage area,  Total basement SF and 1st Floor SF seem to have a linear relationship with Sale Price. However, we notice that the data gets more widely distributed for larger values."
   ]
  },
  {
   "cell_type": "code",
   "execution_count": 24,
   "metadata": {
    "scrolled": false
   },
   "outputs": [
    {
     "data": {
      "image/png": "[encoded data removed]",
      "text/plain": [
       "<Figure size 1440x504 with 10 Axes>"
      ]
     },
     "metadata": {
      "needs_background": "light"
     },
     "output_type": "display_data"
    }
   ],
   "source": [
    "# Creating histograms to visualize the distribution of the top 10 numeric features:\n",
    "cols = features_num\n",
    "fig, axes = plt.subplots(figsize = (20,7), nrows = 2, ncols = 5)\n",
    "fig.suptitle(\"Distribution of Top 10 Numeric Features\", fontsize = 24, y = 1.1)\n",
    "axes = axes.flatten()\n",
    "\n",
    "for i, col in enumerate(cols):\n",
    "    ax = axes[i]\n",
    "    ax.hist(df[col])\n",
    "    ax.set_title(f\"{col} Distribution\")\n",
    "\n",
    "plt.tight_layout()\n",
    "#Code adapted from Mahdi Shadkam-Farrokhi's bonus visualization local lesson for GA DSI 11"
   ]
  },
  {
   "cell_type": "markdown",
   "metadata": {},
   "source": [
    "**Interpretation:** None of the features seem to have a true normal distribtion.\n",
    "Overall Quality, Gr Liv Area, Garage Area, Garage cars, Total Basement SF, and  1st Floor SF are the only features with a distribution close to normal. However, they all have a right skewed (except for Overall Quality).\n",
    "  \n",
    "  Note: In order to improve our model, the log of the two most strongly correlated features with a close to normal distribution (Overall quality and Above ground living area) was taken. However, this transformation did not improve our model enough to be included in the final model.  "
   ]
  },
  {
   "cell_type": "code",
   "execution_count": 25,
   "metadata": {
    "scrolled": false
   },
   "outputs": [
    {
     "data": {
      "image/png": "[encoded data removed]",
      "text/plain": [
       "<Figure size 1440x504 with 10 Axes>"
      ]
     },
     "metadata": {
      "needs_background": "light"
     },
     "output_type": "display_data"
    }
   ],
   "source": [
    "# Creating boxplots to visualize the distribution of the top 10 numeric features:\n",
    "# Boxplots allow us to better visualize outliers \n",
    "cols = features_num\n",
    "fig, axes = plt.subplots(figsize = (20,7), nrows = 2, ncols = 5)\n",
    "fig.suptitle(\"Distribution of Top 10 Numeric Features\", fontsize = 24, y = 1.1)\n",
    "axes = axes.flatten()\n",
    "\n",
    "for i, col in enumerate(cols):\n",
    "    sns.boxplot(df[col], ax = axes[i], palette='Blues').set_title(f\"{col} Distribution\")\n",
    "    \n",
    "plt.tight_layout()"
   ]
  },
  {
   "cell_type": "markdown",
   "metadata": {},
   "source": [
    "**Interpretation**: We notice several outliers. However, contrary to the Year Garage Built outlier dealt with during data cleaning, we do not have enough information to say that those values truly are invalid observations. Therefore, we will keep them in our dataset and include them in our model. "
   ]
  },
  {
   "cell_type": "code",
   "execution_count": 26,
   "metadata": {
    "scrolled": true
   },
   "outputs": [
    {
     "data": {
      "image/png": "[encoded data removed]",
      "text/plain": [
       "<Figure size 432x288 with 1 Axes>"
      ]
     },
     "metadata": {
      "needs_background": "light"
     },
     "output_type": "display_data"
    }
   ],
   "source": [
    "# Visualizing the distribution of our target variable:\n",
    "plt.hist(df['SalePrice']);\n",
    "plt.title('Distribution of House Prices', size=15)\n",
    "plt.xlabel('Sale Price', size=12);"
   ]
  },
  {
   "cell_type": "markdown",
   "metadata": {},
   "source": [
    "**Interpretation:** The distribution of sale prices is right skewed. This suggests that we will need to take the log of our target feature in our model in order to improve it's predictive power. "
   ]
  },
  {
   "cell_type": "code",
   "execution_count": 19,
   "metadata": {},
   "outputs": [],
   "source": [
    "# Finally, let's dummy the remaining categorical features:\n",
    "df = pd.get_dummies(df, columns = ['Neighborhood', 'MS SubClass', 'MS Zoning', 'Street', 'Alley', 'Land Contour', 'Lot Config', \n",
    "                                   'Condition 1', 'Condition 2', 'Bldg Type', 'House Style', 'Roof Style', 'Roof Matl', \n",
    "                                  'Exterior 1st', 'Exterior 2nd', 'Mas Vnr Type', 'Foundation', 'Heating', 'Electrical', \n",
    "                                   'Garage Type', 'Fence', 'Misc Feature', 'Sale Type', 'Mo Sold'])"
   ]
  },
  {
   "cell_type": "code",
   "execution_count": 20,
   "metadata": {},
   "outputs": [],
   "source": [
    "# Saving cleaned dataset: \n",
    "df.to_csv('../output/cleaned_dataframe.csv', index = False)"
   ]
  },
  {
   "cell_type": "markdown",
   "metadata": {},
   "source": [
    "Based on the depth of this dataset, we are likely to be able to answer our problem statement."
   ]
  },
  {
   "cell_type": "markdown",
   "metadata": {},
   "source": [
    "## Model Preparation"
   ]
  },
  {
   "cell_type": "code",
   "execution_count": 27,
   "metadata": {},
   "outputs": [],
   "source": [
    "# Setting our X and y variables \n",
    "X = df.drop(columns = ['SalePrice', 'Id', 'PID', 'Yr Sold', 'Year Remod/Add', 'TotRms AbvGrd', 'Full Bath', 'Half Bath'])\n",
    "y = np.log(df['SalePrice'])\n",
    "\n",
    "# Doing a train/test split \n",
    "X_train, X_test, y_train, y_test = train_test_split(X, y, random_state = 5)"
   ]
  },
  {
   "cell_type": "code",
   "execution_count": 28,
   "metadata": {},
   "outputs": [],
   "source": [
    "# Scaling our data \n",
    "ss = StandardScaler()\n",
    "ss.fit(X_train)\n",
    "X_train_sc = ss.transform(X_train)\n",
    "X_test_sc = ss.transform(X_test)"
   ]
  },
  {
   "cell_type": "markdown",
   "metadata": {},
   "source": [
    "## Modeling"
   ]
  },
  {
   "cell_type": "markdown",
   "metadata": {},
   "source": [
    "### Baseline Model"
   ]
  },
  {
   "cell_type": "code",
   "execution_count": 29,
   "metadata": {},
   "outputs": [
    {
     "name": "stdout",
     "output_type": "stream",
     "text": [
      " Training Score: 0.0\n",
      " Testing Score: -0.013575997868034763\n"
     ]
    }
   ],
   "source": [
    "# Instantiating our baseline model: \n",
    "dummy_mean = DummyRegressor(strategy='mean')\n",
    "\n",
    "# Fitting our baseline model: \n",
    "dummy_mean.fit(X_train_sc, y_train)\n",
    "\n",
    "# Calculating training and testing scores: \n",
    "print(f' Training Score: {dummy_mean.score(X_train_sc, y_train)}')\n",
    "print(f' Testing Score: {dummy_mean.score(X_test_sc, y_test)}')\n",
    "# Code from https://chrisalbon.com/machine_learning/model_evaluation/create_baseline_regression_model/"
   ]
  },
  {
   "cell_type": "markdown",
   "metadata": {},
   "source": [
    "### Linear Regression"
   ]
  },
  {
   "cell_type": "code",
   "execution_count": 30,
   "metadata": {},
   "outputs": [],
   "source": [
    "# Instantiating our linear regression model:\n",
    "lr = LinearRegression()"
   ]
  },
  {
   "cell_type": "code",
   "execution_count": 31,
   "metadata": {},
   "outputs": [
    {
     "name": "stdout",
     "output_type": "stream",
     "text": [
      " Training Score: 0.9456326052636992\n",
      " Testing Score: -6.307224752956732e+19\n"
     ]
    }
   ],
   "source": [
    "# Fitting our linear regression model:\n",
    "lr.fit(X_train_sc, y_train)\n",
    "\n",
    "# Training score \n",
    "print(f' Training Score: {lr.score(X_train_sc, y_train)}')\n",
    "      \n",
    "#Testing score\n",
    "print(f' Testing Score: {lr.score(X_test_sc, y_test)}')"
   ]
  },
  {
   "cell_type": "code",
   "execution_count": 32,
   "metadata": {},
   "outputs": [
    {
     "data": {
      "text/plain": [
       "-1.7574356267637247e+24"
      ]
     },
     "execution_count": 32,
     "metadata": {},
     "output_type": "execute_result"
    }
   ],
   "source": [
    "# Calculating cross val score \n",
    "cross_val_score(lr, X_train_sc, y_train, cv=5).mean()"
   ]
  },
  {
   "cell_type": "markdown",
   "metadata": {},
   "source": [
    "Note: Although bad testing scores for such an overfit model are expected, those values seem abnormal and the model is currently under review. "
   ]
  },
  {
   "cell_type": "markdown",
   "metadata": {},
   "source": [
    "### Ridge"
   ]
  },
  {
   "cell_type": "code",
   "execution_count": 33,
   "metadata": {},
   "outputs": [],
   "source": [
    "# Creating a list of potential alphas:\n",
    "r_alphas = np.logspace(1, 4, 100)\n",
    "\n",
    "# Instantiating our ridge model and cross-validating over our list of ridge alphas:\n",
    "ridge_cv = RidgeCV(\n",
    "          alphas = r_alphas,\n",
    "          scoring= 'r2', \n",
    "          cv = 5)\n",
    "\n",
    "# Fitting our ridge model using best ridge alpha:\n",
    "ridge_cv.fit(X_train_sc, y_train);"
   ]
  },
  {
   "cell_type": "code",
   "execution_count": 34,
   "metadata": {},
   "outputs": [
    {
     "data": {
      "text/plain": [
       "572.236765935022"
      ]
     },
     "execution_count": 34,
     "metadata": {},
     "output_type": "execute_result"
    }
   ],
   "source": [
    "# Confirming that best ridge alpha was well within the range of potential alphas: \n",
    "ridge_cv.alpha_"
   ]
  },
  {
   "cell_type": "code",
   "execution_count": 35,
   "metadata": {},
   "outputs": [
    {
     "name": "stdout",
     "output_type": "stream",
     "text": [
      "Training Score: 0.9297350006454732\n",
      "Testing Score: 0.8959815569147925\n"
     ]
    }
   ],
   "source": [
    "# Calculating training and testing scores: \n",
    "print(f'Training Score: {ridge_cv.score(X_train_sc, y_train)}') \n",
    "print(f'Testing Score: {ridge_cv.score(X_test_sc, y_test)}')"
   ]
  },
  {
   "cell_type": "code",
   "execution_count": 36,
   "metadata": {},
   "outputs": [
    {
     "data": {
      "text/plain": [
       "0.8666697865097255"
      ]
     },
     "execution_count": 36,
     "metadata": {},
     "output_type": "execute_result"
    }
   ],
   "source": [
    "# Calculating cross val score: \n",
    "cross_val_score(ridge_cv, X_train_sc, y_train, cv=5).mean()\n",
    "\n",
    "# Cross val score is reasonably close to our testing score, indicating a valid testing set "
   ]
  },
  {
   "cell_type": "markdown",
   "metadata": {},
   "source": [
    "### Lasso"
   ]
  },
  {
   "cell_type": "code",
   "execution_count": 37,
   "metadata": {},
   "outputs": [],
   "source": [
    "# Creating a list of potential alphas:\n",
    "l_alphas = np.logspace(-5, 0, 100)\n",
    "\n",
    "# Instantiating our lasso model and cross-validating over our list of Lasso alphas:\n",
    "lasso_cv = LassoCV( \n",
    "                alphas = l_alphas,\n",
    "                cv=5)\n",
    "\n",
    "# Fitting our lasso model using best ridge alpha:\n",
    "lasso_cv.fit(X_train_sc, y_train);"
   ]
  },
  {
   "cell_type": "code",
   "execution_count": 38,
   "metadata": {
    "scrolled": false
   },
   "outputs": [
    {
     "data": {
      "text/plain": [
       "0.006734150657750821"
      ]
     },
     "execution_count": 38,
     "metadata": {},
     "output_type": "execute_result"
    }
   ],
   "source": [
    "# Confirming that best lasso alpha was well within the range of potential alphas: \n",
    "lasso_cv.alpha_"
   ]
  },
  {
   "cell_type": "code",
   "execution_count": 39,
   "metadata": {},
   "outputs": [
    {
     "name": "stdout",
     "output_type": "stream",
     "text": [
      "Training Score: 0.9255887711632917\n",
      "Testing Score: 0.9140846494752666\n"
     ]
    }
   ],
   "source": [
    "# Calculating training and testing scores: \n",
    "print(f'Training Score: {lasso_cv.score(X_train_sc, y_train)}')\n",
    "print(f'Testing Score: {lasso_cv.score(X_test_sc, y_test)}')"
   ]
  },
  {
   "cell_type": "code",
   "execution_count": 40,
   "metadata": {},
   "outputs": [
    {
     "data": {
      "text/plain": [
       "0.8552090660571563"
      ]
     },
     "execution_count": 40,
     "metadata": {},
     "output_type": "execute_result"
    }
   ],
   "source": [
    "# Calculating cross-val-score:\n",
    "cross_val_score(lasso_cv, X_train_sc, y_train, cv=5).mean()\n",
    "\n",
    "# Cross val score is reasonably close to our testing score, indicating a valid testing set "
   ]
  },
  {
   "cell_type": "markdown",
   "metadata": {},
   "source": [
    "## Model Selection"
   ]
  },
  {
   "cell_type": "markdown",
   "metadata": {},
   "source": [
    "### Calculating Predictions"
   ]
  },
  {
   "cell_type": "code",
   "execution_count": 41,
   "metadata": {
    "scrolled": true
   },
   "outputs": [
    {
     "data": {
      "text/plain": [
       "556    199500.0\n",
       "176    183200.0\n",
       "Name: SalePrice, dtype: float64"
      ]
     },
     "execution_count": 41,
     "metadata": {},
     "output_type": "execute_result"
    }
   ],
   "source": [
    "# Getting y_test back to the original scale:\n",
    "y_test_os = np.exp(y_test)\n",
    "y_test_os[:2]"
   ]
  },
  {
   "cell_type": "code",
   "execution_count": 42,
   "metadata": {},
   "outputs": [
    {
     "data": {
      "text/plain": [
       "164831.56168113885"
      ]
     },
     "execution_count": 42,
     "metadata": {},
     "output_type": "execute_result"
    }
   ],
   "source": [
    "# Getting predictions for the baseline: \n",
    "pred_bas = np.exp(y_train.mean())  #our baseline predicts the mean\n",
    "pred_bas"
   ]
  },
  {
   "cell_type": "code",
   "execution_count": 43,
   "metadata": {},
   "outputs": [
    {
     "data": {
      "text/plain": [
       "array([220467.11187502, 189907.05620968,  96692.02354621, 177254.54100106])"
      ]
     },
     "execution_count": 43,
     "metadata": {},
     "output_type": "execute_result"
    }
   ],
   "source": [
    "# Getting predictions for the Lasso training set: \n",
    "pred_l_train_log = lasso_cv.predict(X_train_sc)\n",
    "pred_lasso_train = np.exp(pred_l_train_log)\n",
    "pred_lasso_train[:4]"
   ]
  },
  {
   "cell_type": "code",
   "execution_count": 44,
   "metadata": {},
   "outputs": [
    {
     "data": {
      "text/plain": [
       "array([177162.07989634, 188745.73193211, 166480.48221339,  83309.89602418])"
      ]
     },
     "execution_count": 44,
     "metadata": {},
     "output_type": "execute_result"
    }
   ],
   "source": [
    "# Getting predictions for the Lasso testing set:\n",
    "pred_l_test_log = lasso_cv.predict(X_test_sc)\n",
    "pred_lasso_test = np.exp(pred_l_test_log)\n",
    "pred_lasso_test[:4]"
   ]
  },
  {
   "cell_type": "code",
   "execution_count": 45,
   "metadata": {},
   "outputs": [
    {
     "data": {
      "text/plain": [
       "array([244267.76696748, 191119.00587414,  90053.83952638, 180213.75965204])"
      ]
     },
     "execution_count": 45,
     "metadata": {},
     "output_type": "execute_result"
    }
   ],
   "source": [
    "# Getting predictions for the Ridge training set:\n",
    "pred_r_train_log = ridge_cv.predict(X_train_sc)\n",
    "pred_ridge_train = np.exp(pred_r_train_log)\n",
    "pred_ridge_train[:4]"
   ]
  },
  {
   "cell_type": "code",
   "execution_count": 46,
   "metadata": {},
   "outputs": [
    {
     "data": {
      "text/plain": [
       "array([179164.84603466, 197135.61213549, 174535.39529456,  88689.07013596])"
      ]
     },
     "execution_count": 46,
     "metadata": {},
     "output_type": "execute_result"
    }
   ],
   "source": [
    "# Getting predictions for the Ridge testing set:\n",
    "pred_r_test_log = ridge_cv.predict(X_test_sc)\n",
    "pred_ridge_test = np.exp(pred_r_test_log)\n",
    "pred_ridge_test[:4]"
   ]
  },
  {
   "cell_type": "markdown",
   "metadata": {},
   "source": [
    "### Calculating RMSE"
   ]
  },
  {
   "cell_type": "code",
   "execution_count": 47,
   "metadata": {},
   "outputs": [],
   "source": [
    "# Creating a function to automate RMSE calculation:\n",
    "def get_rmse(y, model_prediction):\n",
    "    mse = metrics.mean_squared_error(y, model_prediction)\n",
    "    rmse = np.sqrt(mse)\n",
    "    return print(f' The RMSE is {rmse}')"
   ]
  },
  {
   "cell_type": "code",
   "execution_count": 48,
   "metadata": {},
   "outputs": [
    {
     "name": "stdout",
     "output_type": "stream",
     "text": [
      " The RMSE is 79557.74676249457\n",
      " The RMSE is 85053.23862455781\n"
     ]
    }
   ],
   "source": [
    "# Baseline RMSE\n",
    "get_rmse(np.exp(y_train), np.exp(dummy_mean.predict(X_train)))\n",
    "get_rmse(np.exp(y_test), np.exp(dummy_mean.predict(X_test)))"
   ]
  },
  {
   "cell_type": "code",
   "execution_count": 49,
   "metadata": {},
   "outputs": [
    {
     "name": "stdout",
     "output_type": "stream",
     "text": [
      " The RMSE is 18971.93064345799\n",
      " The RMSE is 23558.35250893357\n"
     ]
    }
   ],
   "source": [
    "# Lasso RMSE\n",
    "get_rmse(np.exp(y_train), pred_lasso_train)\n",
    "get_rmse(np.exp(y_test), pred_lasso_test)"
   ]
  },
  {
   "cell_type": "code",
   "execution_count": 50,
   "metadata": {},
   "outputs": [
    {
     "name": "stdout",
     "output_type": "stream",
     "text": [
      " The RMSE is 19212.6662613521\n",
      " The RMSE is 26090.586995693473\n"
     ]
    }
   ],
   "source": [
    "# Ridge RMSE\n",
    "get_rmse(np.exp(y_train), pred_ridge_train)\n",
    "get_rmse(np.exp(y_test), pred_ridge_test)"
   ]
  },
  {
   "cell_type": "markdown",
   "metadata": {},
   "source": [
    "### Calculating R^2"
   ]
  },
  {
   "cell_type": "markdown",
   "metadata": {},
   "source": [
    "R-squared is the default metric for the regression models used and have therefore already been calculated."
   ]
  },
  {
   "cell_type": "markdown",
   "metadata": {},
   "source": [
    "### Model Comparaison\n",
    "\n",
    "<img src=\"../assets/table.png\" width=\"750px\">\n",
    "\n"
   ]
  },
  {
   "cell_type": "markdown",
   "metadata": {},
   "source": [
    "We are looking for the model with the higest R-squared and the lowest RMSE. In our case, this is the Lasso model.  \n",
    "A lasso model makes sense for our particular situation since it zeros out certain features in order to simplify an overfit model. It is therefore the best model when incorportating a very high number of features in a model in order to reduce the variance as much as possible. \n",
    "\n",
    "**Interpretation of Lasso scores:**  \n",
    "- 91% of the variation in sale price is explained by our model (relative to a baseline model with no predictors).\n",
    "- True prices are approximately \\\\$23,500 away from our predicted values. \n"
   ]
  },
  {
   "cell_type": "markdown",
   "metadata": {},
   "source": [
    "## Model Evaluation"
   ]
  },
  {
   "cell_type": "code",
   "execution_count": 51,
   "metadata": {
    "scrolled": true
   },
   "outputs": [
    {
     "data": {
      "image/png": "[encoded data removed]",
      "text/plain": [
       "<Figure size 432x288 with 1 Axes>"
      ]
     },
     "metadata": {
      "needs_background": "light"
     },
     "output_type": "display_data"
    }
   ],
   "source": [
    "# Visualizing predicted sale prices vs actual sales prices: \n",
    "sns.scatterplot(pred_lasso_train, np.exp(y_train), label = \"Training data\", color = \"steelblue\", alpha = .75)\n",
    "sns.scatterplot(pred_lasso_test, y_test_os, label = \"Testing data\", color = \"gold\", alpha = .75)\n",
    "plt.title(\"Predictions vs. True Price\", size=15)\n",
    "plt.xlabel(\"$\\hat{y}$ = Predicted Sale Price\")\n",
    "plt.ylabel(\"$y$ = Actual Sale Price\")\n",
    "plt.legend(loc = \"upper left\")\n",
    "all_vals = np.concatenate([pred_lasso_train, pred_lasso_test, np.exp(y_train), y_test_os])\n",
    "the_max_val = np.max(all_vals)\n",
    "the_min_val = np.min(all_vals)\n",
    "plt.plot([the_min_val, the_max_val],[the_min_val, the_max_val], c='firebrick')\n",
    "plt.tight_layout()\n",
    "#Code adapted from Mahdi Shadkam-Farrokhi's code"
   ]
  },
  {
   "cell_type": "markdown",
   "metadata": {},
   "source": [
    "**Interpretation:** Our predicted prices are close to the actual prices for both our training and testing data. This suggests that our model has good predictive power. However, it is worth noting that our model is not predicting prices as accurately for the higher price range. This is an area for potential improvement for future iterations of the App. "
   ]
  },
  {
   "cell_type": "code",
   "execution_count": 52,
   "metadata": {},
   "outputs": [],
   "source": [
    "# Calculating residuals:\n",
    "residuals = y_test_os - pred_lasso_test"
   ]
  },
  {
   "cell_type": "code",
   "execution_count": 53,
   "metadata": {
    "scrolled": false
   },
   "outputs": [
    {
     "data": {
      "image/png": "[encoded data removed]",
      "text/plain": [
       "<Figure size 432x288 with 1 Axes>"
      ]
     },
     "metadata": {
      "needs_background": "light"
     },
     "output_type": "display_data"
    }
   ],
   "source": [
    "# Visualizing residuals: \n",
    "plt.scatter(pred_lasso_test, residuals)\n",
    "plt.axhline(0, color='red')\n",
    "plt.title('Residuals for each Predicted Price', size=15)\n",
    "plt.xlabel('Predicted Sale Prices')\n",
    "plt.ylabel('Residuals');"
   ]
  },
  {
   "cell_type": "markdown",
   "metadata": {},
   "source": [
    "**Interpretation:** Our errors when predicting prices for houses worth under \\\\$250,000 are very acceptable. Once again we note an opportunity for improvement in reducing our errors for the higher price range.  \n",
    "The wider variation in residuals for higher predicted prices also implies that the equality of variances assumption may be violated. However, based on our problem statement, our goal is to create the model with the highest predictive power. Since we do not care about using our model for inference purposes, violating assumptions is acceptable.  "
   ]
  },
  {
   "cell_type": "code",
   "execution_count": 54,
   "metadata": {
    "scrolled": true
   },
   "outputs": [
    {
     "data": {
      "image/png": "[encoded data removed]",
      "text/plain": [
       "<Figure size 432x288 with 1 Axes>"
      ]
     },
     "metadata": {
      "needs_background": "light"
     },
     "output_type": "display_data"
    }
   ],
   "source": [
    "# Visualizing distribution of residuals:\n",
    "plt.hist(residuals)\n",
    "plt.title('Distribution of Residuals')\n",
    "plt.xlabel('Residuals');"
   ]
  },
  {
   "cell_type": "markdown",
   "metadata": {},
   "source": [
    "**Interpretation:** Our residuals do not follow a true normal distribution. This implies that the normality assumption is not truly fulfilled. However, as mentioned above, violating assumptions is acceptable in our case.  \n",
    "It is worth noting that considering the number of features included in our model and the close relationship they have with one another, we are most likely violating the independence of predictors assumption as well. In order to mediate this issue, a model including fewer features (to avoid multi-colinear features) was tested but it did not perform as well as the model selected. "
   ]
  },
  {
   "cell_type": "code",
   "execution_count": 55,
   "metadata": {
    "scrolled": true
   },
   "outputs": [
    {
     "data": {
      "text/plain": [
       "12.012679393176295"
      ]
     },
     "execution_count": 55,
     "metadata": {},
     "output_type": "execute_result"
    }
   ],
   "source": [
    "# Looking at our model's intercept: \n",
    "lasso_cv.intercept_"
   ]
  },
  {
   "cell_type": "code",
   "execution_count": 56,
   "metadata": {},
   "outputs": [
    {
     "data": {
      "text/plain": [
       "164831.56168113885"
      ]
     },
     "execution_count": 56,
     "metadata": {},
     "output_type": "execute_result"
    }
   ],
   "source": [
    "# Looking at the intercept in the original units: \n",
    "np.exp(lasso_cv.intercept_)"
   ]
  },
  {
   "cell_type": "markdown",
   "metadata": {},
   "source": [
    "**Interpretation**: When a home has a value of 0 for all of our model's features, the sale price is estimated to be \\\\$164,832. "
   ]
  },
  {
   "cell_type": "code",
   "execution_count": 57,
   "metadata": {
    "scrolled": true
   },
   "outputs": [
    {
     "data": {
      "text/plain": [
       "array([ 0.00930029,  0.01551156,  0.        ,  0.        ,  0.        ,\n",
       "        0.09139507,  0.03274282,  0.04051921,  0.        ,  0.01516019,\n",
       "        0.        ,  0.01519034,  0.        ,  0.012285  ,  0.0068161 ,\n",
       "        0.02840046,  0.        ,  0.        , -0.        ,  0.01857448,\n",
       "        0.0121422 ,  0.01281976,  0.02079379,  0.        , -0.        ,\n",
       "        0.1162041 ,  0.01119069,  0.        ,  0.        , -0.00069686,\n",
       "        0.01434197,  0.01984045,  0.00380854,  0.0152574 ,  0.00472193,\n",
       "        0.00017474,  0.01901989,  0.00493496,  0.        ,  0.00726711,\n",
       "        0.01562731,  0.00162329,  0.        ,  0.        ,  0.        ,\n",
       "        0.00527777,  0.        ,  0.        , -0.        , -0.01558996,\n",
       "        0.00549224, -0.        , -0.        , -0.        ,  0.        ,\n",
       "        0.00050502, -0.        ,  0.0121571 , -0.00031055, -0.        ,\n",
       "       -0.        ,  0.00548354, -0.        ,  0.        , -0.00587342,\n",
       "        0.        , -0.        , -0.        , -0.        ,  0.        ,\n",
       "        0.01030611, -0.00206171, -0.        , -0.        , -0.        ,\n",
       "        0.00551561,  0.00434619,  0.        , -0.        , -0.        ,\n",
       "       -0.        , -0.00432416, -0.        ,  0.        ,  0.        ,\n",
       "       -0.01064739, -0.        ,  0.        ,  0.        ,  0.        ,\n",
       "        0.        ,  0.        , -0.        ,  0.        , -0.        ,\n",
       "       -0.0139899 , -0.01994259,  0.        , -0.        , -0.        ,\n",
       "        0.        , -0.01250003, -0.        ,  0.        ,  0.        ,\n",
       "       -0.        ,  0.        , -0.        ,  0.00389177,  0.        ,\n",
       "       -0.        ,  0.        ,  0.        , -0.        , -0.        ,\n",
       "       -0.        , -0.00166514, -0.        ,  0.00517593,  0.        ,\n",
       "        0.        , -0.        , -0.        , -0.        , -0.        ,\n",
       "       -0.0023068 , -0.        ,  0.        ,  0.        ,  0.        ,\n",
       "       -0.        , -0.        , -0.        ,  0.00901722,  0.        ,\n",
       "       -0.        , -0.00416523, -0.        ,  0.        ,  0.        ,\n",
       "        0.        , -0.        ,  0.        , -0.        , -0.        ,\n",
       "       -0.        ,  0.        , -0.        , -0.        ,  0.        ,\n",
       "       -0.00382307, -0.        , -0.05879473,  0.        ,  0.        ,\n",
       "       -0.        ,  0.        , -0.        , -0.01079403,  0.        ,\n",
       "        0.        ,  0.01005618,  0.        ,  0.        , -0.        ,\n",
       "        0.        ,  0.        , -0.        ,  0.        ,  0.        ,\n",
       "        0.        , -0.        , -0.        , -0.00103759,  0.        ,\n",
       "        0.        , -0.        , -0.        ,  0.        , -0.        ,\n",
       "       -0.        ,  0.        , -0.        ,  0.        ,  0.        ,\n",
       "        0.        , -0.        , -0.        , -0.0011261 ,  0.        ,\n",
       "       -0.        ,  0.        , -0.        , -0.        ,  0.00709481,\n",
       "       -0.        ,  0.        ,  0.        ,  0.        ,  0.        ,\n",
       "       -0.01075243, -0.        , -0.00425876, -0.        ,  0.        ,\n",
       "        0.        , -0.        ,  0.        , -0.        ,  0.00245885,\n",
       "       -0.        ,  0.        , -0.00110183, -0.        , -0.        ,\n",
       "        0.        , -0.        , -0.        , -0.        ,  0.        ,\n",
       "       -0.04591681,  0.        ,  0.        ,  0.        , -0.        ,\n",
       "       -0.        , -0.00219219,  0.        ,  0.        ,  0.        ,\n",
       "        0.        , -0.        ,  0.00997528,  0.00059905, -0.        ,\n",
       "        0.        , -0.        , -0.        , -0.        ,  0.        ,\n",
       "        0.        ,  0.00177971,  0.        , -0.        , -0.        ,\n",
       "       -0.        , -0.        ])"
      ]
     },
     "execution_count": 57,
     "metadata": {},
     "output_type": "execute_result"
    }
   ],
   "source": [
    "# Looking at our model coeficients: \n",
    "lasso_cv.coef_"
   ]
  },
  {
   "cell_type": "code",
   "execution_count": 58,
   "metadata": {
    "scrolled": true
   },
   "outputs": [
    {
     "data": {
      "text/html": [
       "<div>\n",
       "<style scoped>\n",
       "    .dataframe tbody tr th:only-of-type {\n",
       "        vertical-align: middle;\n",
       "    }\n",
       "\n",
       "    .dataframe tbody tr th {\n",
       "        vertical-align: top;\n",
       "    }\n",
       "\n",
       "    .dataframe thead th {\n",
       "        text-align: right;\n",
       "    }\n",
       "</style>\n",
       "<table border=\"1\" class=\"dataframe\">\n",
       "  <thead>\n",
       "    <tr style=\"text-align: right;\">\n",
       "      <th></th>\n",
       "      <th>0</th>\n",
       "    </tr>\n",
       "  </thead>\n",
       "  <tbody>\n",
       "    <tr>\n",
       "      <th>Lot Frontage</th>\n",
       "      <td>0.009300</td>\n",
       "    </tr>\n",
       "    <tr>\n",
       "      <th>Lot Area</th>\n",
       "      <td>0.015512</td>\n",
       "    </tr>\n",
       "    <tr>\n",
       "      <th>Lot Shape</th>\n",
       "      <td>0.000000</td>\n",
       "    </tr>\n",
       "    <tr>\n",
       "      <th>Utilities</th>\n",
       "      <td>0.000000</td>\n",
       "    </tr>\n",
       "    <tr>\n",
       "      <th>Land Slope</th>\n",
       "      <td>0.000000</td>\n",
       "    </tr>\n",
       "  </tbody>\n",
       "</table>\n",
       "</div>"
      ],
      "text/plain": [
       "                     0\n",
       "Lot Frontage  0.009300\n",
       "Lot Area      0.015512\n",
       "Lot Shape     0.000000\n",
       "Utilities     0.000000\n",
       "Land Slope    0.000000"
      ]
     },
     "execution_count": 58,
     "metadata": {},
     "output_type": "execute_result"
    }
   ],
   "source": [
    "coef = pd.DataFrame(lasso_cv.coef_, X.columns)\n",
    "coef.head()\n",
    "# Code found thanks to Danielle Medellin"
   ]
  },
  {
   "cell_type": "code",
   "execution_count": 59,
   "metadata": {},
   "outputs": [
    {
     "data": {
      "text/plain": [
       "Gr Liv Area              0.116204\n",
       "Overall Qual             0.091395\n",
       "Year Built               0.040519\n",
       "Overall Cond             0.032743\n",
       "BsmtFin SF 1             0.028400\n",
       "1st Flr SF               0.020794\n",
       "Functional               0.019840\n",
       "Garage Cars              0.019020\n",
       "Total Bsmt SF            0.018574\n",
       "Paved Drive              0.015627\n",
       "Lot Area                 0.015512\n",
       "Fireplace Qu             0.015257\n",
       "Bsmt Qual                0.015190\n",
       "Exter Qual               0.015160\n",
       "Kitchen Qual             0.014342\n",
       "Central Air              0.012820\n",
       "Bsmt Exposure            0.012285\n",
       "Neighborhood_Crawfor     0.012157\n",
       "Heating QC               0.012142\n",
       "Bsmt Full Bath           0.011191\n",
       "Neighborhood_NridgHt     0.010306\n",
       "Exterior 1st_BrkFace     0.010056\n",
       "Sale Type_New            0.009975\n",
       "Lot Frontage             0.009300\n",
       "Bldg Type_1Fam           0.009017\n",
       "Garage Cond              0.007267\n",
       "Foundation_PConc         0.007095\n",
       "BsmtFin Type 1           0.006816\n",
       "Neighborhood_Somerst     0.005516\n",
       "True TotRms AbvGrd       0.005492\n",
       "Neighborhood_GrnHill     0.005484\n",
       "Screen Porch             0.005278\n",
       "Condition 1_Norm         0.005176\n",
       "Garage Area              0.004935\n",
       "Garage Yr Blt            0.004722\n",
       "Neighborhood_StoneBr     0.004346\n",
       "Land Contour_HLS         0.003892\n",
       "Fireplaces               0.003809\n",
       "Garage Type_Attchd       0.002459\n",
       "Mo Sold_7                0.001780\n",
       "Wood Deck SF             0.001623\n",
       "Sale Type_Oth            0.000599\n",
       "Neighborhood_ClearCr     0.000505\n",
       "Garage Finish            0.000175\n",
       "MS SubClass_40          -0.000000\n",
       "MS SubClass_75           0.000000\n",
       "Condition 1_RRAn        -0.000000\n",
       "MS SubClass_90          -0.000000\n",
       "MS SubClass_85           0.000000\n",
       "MS SubClass_180         -0.000000\n",
       "MS SubClass_80          -0.000000\n",
       "MS SubClass_70           0.000000\n",
       "MS SubClass_20           0.000000\n",
       "MS SubClass_190          0.000000\n",
       "MS SubClass_60           0.000000\n",
       "MS SubClass_50           0.000000\n",
       "Condition 1_RRAe        -0.000000\n",
       "MS SubClass_45           0.000000\n",
       "MS Zoning_FV             0.000000\n",
       "Lot Config_FR3          -0.000000\n",
       "MS Zoning_I (all)       -0.000000\n",
       "MS Zoning_RH            -0.000000\n",
       "Lot Config_FR2          -0.000000\n",
       "Lot Config_CulDSac       0.000000\n",
       "Condition 1_Feedr       -0.000000\n",
       "Lot Config_Corner        0.000000\n",
       "Land Contour_Lvl        -0.000000\n",
       "Condition 1_PosA         0.000000\n",
       "MS SubClass_120         -0.000000\n",
       "Land Contour_Low         0.000000\n",
       "Condition 1_PosN         0.000000\n",
       "Land Contour_Bnk        -0.000000\n",
       "Alley_Pave               0.000000\n",
       "Alley_No_alley          -0.000000\n",
       "Alley_Grvl               0.000000\n",
       "Lot Config_Inside       -0.000000\n",
       "Street_Pave              0.000000\n",
       "Street_Grvl             -0.000000\n",
       "MS Zoning_RL             0.000000\n",
       "MS SubClass_150         -0.000000\n",
       "Neighborhood_CollgCr    -0.000000\n",
       "Neighborhood_Veenker    -0.000000\n",
       "Neighborhood_Timber      0.000000\n",
       "3Ssn Porch               0.000000\n",
       "Enclosed Porch           0.000000\n",
       "Open Porch SF            0.000000\n",
       "Garage Qual              0.000000\n",
       "Bedroom AbvGr            0.000000\n",
       "Bsmt Half Bath           0.000000\n",
       "Low Qual Fin SF         -0.000000\n",
       "2nd Flr SF               0.000000\n",
       "Bsmt Unf SF             -0.000000\n",
       "BsmtFin SF 2             0.000000\n",
       "BsmtFin Type 2           0.000000\n",
       "Bsmt Cond                0.000000\n",
       "Exter Cond               0.000000\n",
       "Mas Vnr Area             0.000000\n",
       "Land Slope               0.000000\n",
       "Utilities                0.000000\n",
       "Lot Shape                0.000000\n",
       "Pool Area                0.000000\n",
       "Pool QC                  0.000000\n",
       "Misc Val                -0.000000\n",
       "Neighborhood_Mitchel     0.000000\n",
       "Neighborhood_SawyerW    -0.000000\n",
       "Neighborhood_Sawyer     -0.000000\n",
       "Neighborhood_SWISU      -0.000000\n",
       "Neighborhood_NoRidge     0.000000\n",
       "Neighborhood_NWAmes     -0.000000\n",
       "Neighborhood_NPkVill    -0.000000\n",
       "Neighborhood_NAmes      -0.000000\n",
       "Neighborhood_Landmrk     0.000000\n",
       "Neighborhood_Blmngtn    -0.000000\n",
       "Neighborhood_IDOTRR     -0.000000\n",
       "Neighborhood_Greens     -0.000000\n",
       "Neighborhood_Gilbert    -0.000000\n",
       "Condition 1_RRNn        -0.000000\n",
       "Neighborhood_BrkSide     0.000000\n",
       "Neighborhood_BrDale     -0.000000\n",
       "Neighborhood_Blueste    -0.000000\n",
       "Mo Sold_11              -0.000000\n",
       "Mo Sold_12              -0.000000\n",
       "Exterior 2nd_MetalSd     0.000000\n",
       "Garage Type_BuiltIn      0.000000\n",
       "Garage Type_2Types      -0.000000\n",
       "Electrical_SBrkr         0.000000\n",
       "Electrical_Mix          -0.000000\n",
       "Electrical_FuseP         0.000000\n",
       "Electrical_FuseF         0.000000\n",
       "Electrical_FuseA        -0.000000\n",
       "Heating_OthW            -0.000000\n",
       "Heating_GasW             0.000000\n",
       "Heating_GasA             0.000000\n",
       "Foundation_Wood          0.000000\n",
       "Foundation_Stone         0.000000\n",
       "Foundation_Slab         -0.000000\n",
       "Foundation_CBlock       -0.000000\n",
       "Foundation_BrkTil       -0.000000\n",
       "Mas Vnr Type_Stone       0.000000\n",
       "Mas Vnr Type_None       -0.000000\n",
       "Mas Vnr Type_BrkFace     0.000000\n",
       "Exterior 2nd_Wd Shng    -0.000000\n",
       "Exterior 2nd_Wd Sdng    -0.000000\n",
       "Exterior 2nd_VinylSd     0.000000\n",
       "Exterior 2nd_Stucco      0.000000\n",
       "Exterior 2nd_Stone       0.000000\n",
       "Exterior 2nd_Plywood    -0.000000\n",
       "Condition 2_Feedr       -0.000000\n",
       "Exterior 2nd_ImStucc    -0.000000\n",
       "Garage Type_Basment     -0.000000\n",
       "Garage Type_Detchd      -0.000000\n",
       "Exterior 2nd_CmentBd     0.000000\n",
       "Garage Type_No Garage   -0.000000\n",
       "Mo Sold_10              -0.000000\n",
       "Mo Sold_9               -0.000000\n",
       "Mo Sold_8                0.000000\n",
       "Mo Sold_6                0.000000\n",
       "Mo Sold_5                0.000000\n",
       "Mo Sold_4               -0.000000\n",
       "Mo Sold_3               -0.000000\n",
       "Mo Sold_2               -0.000000\n",
       "Mo Sold_1                0.000000\n",
       "Sale Type_WD            -0.000000\n",
       "Sale Type_ConLw         -0.000000\n",
       "Sale Type_ConLI          0.000000\n",
       "Sale Type_ConLD          0.000000\n",
       "Sale Type_Con            0.000000\n",
       "Sale Type_CWD            0.000000\n",
       "Misc Feature_TenC       -0.000000\n",
       "Misc Feature_Shed       -0.000000\n",
       "Misc Feature_Othr        0.000000\n",
       "Misc Feature_None        0.000000\n",
       "Misc Feature_Gar2        0.000000\n",
       "Fence_No Fence           0.000000\n",
       "Fence_MnWw              -0.000000\n",
       "Fence_MnPrv             -0.000000\n",
       "Fence_GdWo              -0.000000\n",
       "Fence_GdPrv              0.000000\n",
       "Exterior 2nd_HdBoard    -0.000000\n",
       "Condition 1_RRNe        -0.000000\n",
       "Exterior 2nd_CBlock     -0.000000\n",
       "Condition 2_RRAn        -0.000000\n",
       "House Style_1Story       0.000000\n",
       "Roof Matl_WdShngl       -0.000000\n",
       "Roof Matl_WdShake        0.000000\n",
       "Roof Matl_Tar&Grv       -0.000000\n",
       "Roof Matl_Membran        0.000000\n",
       "Roof Matl_CompShg        0.000000\n",
       "Exterior 2nd_BrkFace    -0.000000\n",
       "Bldg Type_2fmCon         0.000000\n",
       "Bldg Type_Duplex        -0.000000\n",
       "Roof Style_Shed         -0.000000\n",
       "Bldg Type_TwnhsE        -0.000000\n",
       "Roof Style_Hip           0.000000\n",
       "Roof Style_Gambrel      -0.000000\n",
       "House Style_1.5Fin       0.000000\n",
       "Roof Style_Gable        -0.000000\n",
       "House Style_1.5Unf       0.000000\n",
       "Roof Style_Flat          0.000000\n",
       "House Style_SLvl        -0.000000\n",
       "House Style_SFoyer      -0.000000\n",
       "House Style_2Story      -0.000000\n",
       "House Style_2.5Unf       0.000000\n",
       "Exterior 1st_AsphShn     0.000000\n",
       "Condition 2_RRNn        -0.000000\n",
       "Exterior 1st_BrkComm     0.000000\n",
       "Exterior 1st_Plywood    -0.000000\n",
       "Condition 2_Norm         0.000000\n",
       "Exterior 2nd_Brk Cmn     0.000000\n",
       "Exterior 2nd_AsphShn     0.000000\n",
       "Exterior 1st_WdShing    -0.000000\n",
       "Exterior 1st_Wd Sdng    -0.000000\n",
       "Exterior 1st_VinylSd     0.000000\n",
       "Exterior 1st_Stucco      0.000000\n",
       "Condition 2_RRAe        -0.000000\n",
       "Exterior 1st_Stone       0.000000\n",
       "Exterior 1st_MetalSd     0.000000\n",
       "Exterior 1st_ImStucc     0.000000\n",
       "Condition 2_PosA         0.000000\n",
       "Condition 2_PosN         0.000000\n",
       "Exterior 1st_HdBoard    -0.000000\n",
       "Exterior 1st_CemntBd     0.000000\n",
       "Exterior 1st_CBlock      0.000000\n",
       "House Style_2.5Fin      -0.000000\n",
       "Neighborhood_Edwards    -0.000311\n",
       "Kitchen AbvGr           -0.000697\n",
       "Exterior 2nd_AsbShng    -0.001038\n",
       "Garage Type_CarPort     -0.001102\n",
       "Mas Vnr Type_BrkCmn     -0.001126\n",
       "Condition 1_Artery      -0.001665\n",
       "Neighborhood_OldTown    -0.002062\n",
       "Sale Type_COD           -0.002192\n",
       "Condition 2_Artery      -0.002307\n",
       "Roof Style_Mansard      -0.003823\n",
       "Bldg Type_Twnhs         -0.004165\n",
       "Heating_Wall            -0.004259\n",
       "MS SubClass_160         -0.004324\n",
       "Neighborhood_MeadowV    -0.005873\n",
       "MS SubClass_30          -0.010647\n",
       "Heating_Grav            -0.010752\n",
       "Exterior 1st_AsbShng    -0.010794\n",
       "MS Zoning_RM            -0.012500\n",
       "MS Zoning_A (agr)       -0.013990\n",
       "Age                     -0.015590\n",
       "MS Zoning_C (all)       -0.019943\n",
       "Misc Feature_Elev       -0.045917\n",
       "Roof Matl_ClyTile       -0.058795\n",
       "Name: 0, dtype: float64"
      ]
     },
     "execution_count": 59,
     "metadata": {},
     "output_type": "execute_result"
    }
   ],
   "source": [
    "coef[0].sort_values(ascending=False)"
   ]
  },
  {
   "cell_type": "markdown",
   "metadata": {},
   "source": [
    "The five features with the highest coefficients are:  \n",
    "1. Above Ground Living Area\n",
    "1. Overall Quality\n",
    "1. Year Built \n",
    "1. Overall COndition\n",
    "1. Finished Basement 1 Sq Ft  \n",
    "\n",
    "**Interpretation:** A 1 unit increase in those features leads to the biggest expected increase in sale price (all else held constant)."
   ]
  },
  {
   "cell_type": "markdown",
   "metadata": {},
   "source": [
    "## Conclusion and Recommendations \n",
    "\n",
    "\n",
    "A Lasso Regression model with most features included (75 variables: 73 of the 81 originals and 2 engineered) gives us the highest predictive power.  \n",
    "\n",
    "We recommend that data be collected on all of those features in order to have the highest predictive power. We recognize that collecting data on 75 variables may seem tedious. However, only 17 features are subject to change after initial assessment. We recommend to confirm with the operations team if they belive a lengthy initial assessment followed by shorter monthly assessments of those 17 features is reasonable.  \n",
    "In addition, we recommend to create a procedure for employees to collect data on those variables during the monthly assessments. Indeed, many of those features are qualitative in nature and all employees must assess them using the same approach in order for the values to be valid.  \n",
    "Finally, special attention should be given to the features with high correlation and high model coeficients identified above during those assessments. \n"
   ]
  },
  {
   "cell_type": "markdown",
   "metadata": {},
   "source": [
    "## References"
   ]
  },
  {
   "cell_type": "markdown",
   "metadata": {},
   "source": [
    "[Iowa Quick Facts](https://www.iowadatacenter.org/quickfacts)  \n",
    "[Ames, IA Wikipedia](https://en.wikipedia.org/wiki/Ames,_Iowa)  \n",
    "[Data Dictionary](http://jse.amstat.org/v19n3/decock/DataDocumentation.txt)"
   ]
  },
  {
   "cell_type": "markdown",
   "metadata": {},
   "source": [
    "---"
   ]
  },
  {
   "cell_type": "markdown",
   "metadata": {},
   "source": [
    "# Kaggle Submission"
   ]
  },
  {
   "cell_type": "code",
   "execution_count": 60,
   "metadata": {},
   "outputs": [
    {
     "data": {
      "text/html": [
       "<div>\n",
       "<style scoped>\n",
       "    .dataframe tbody tr th:only-of-type {\n",
       "        vertical-align: middle;\n",
       "    }\n",
       "\n",
       "    .dataframe tbody tr th {\n",
       "        vertical-align: top;\n",
       "    }\n",
       "\n",
       "    .dataframe thead th {\n",
       "        text-align: right;\n",
       "    }\n",
       "</style>\n",
       "<table border=\"1\" class=\"dataframe\">\n",
       "  <thead>\n",
       "    <tr style=\"text-align: right;\">\n",
       "      <th></th>\n",
       "      <th>Id</th>\n",
       "      <th>PID</th>\n",
       "      <th>MS SubClass</th>\n",
       "      <th>MS Zoning</th>\n",
       "      <th>Lot Frontage</th>\n",
       "      <th>Lot Area</th>\n",
       "      <th>Street</th>\n",
       "      <th>Alley</th>\n",
       "      <th>Lot Shape</th>\n",
       "      <th>Land Contour</th>\n",
       "      <th>Utilities</th>\n",
       "      <th>Lot Config</th>\n",
       "      <th>Land Slope</th>\n",
       "      <th>Neighborhood</th>\n",
       "      <th>Condition 1</th>\n",
       "      <th>Condition 2</th>\n",
       "      <th>Bldg Type</th>\n",
       "      <th>House Style</th>\n",
       "      <th>Overall Qual</th>\n",
       "      <th>Overall Cond</th>\n",
       "      <th>Year Built</th>\n",
       "      <th>Year Remod/Add</th>\n",
       "      <th>Roof Style</th>\n",
       "      <th>Roof Matl</th>\n",
       "      <th>Exterior 1st</th>\n",
       "      <th>Exterior 2nd</th>\n",
       "      <th>Mas Vnr Type</th>\n",
       "      <th>Mas Vnr Area</th>\n",
       "      <th>Exter Qual</th>\n",
       "      <th>Exter Cond</th>\n",
       "      <th>Foundation</th>\n",
       "      <th>Bsmt Qual</th>\n",
       "      <th>Bsmt Cond</th>\n",
       "      <th>Bsmt Exposure</th>\n",
       "      <th>BsmtFin Type 1</th>\n",
       "      <th>BsmtFin SF 1</th>\n",
       "      <th>BsmtFin Type 2</th>\n",
       "      <th>BsmtFin SF 2</th>\n",
       "      <th>Bsmt Unf SF</th>\n",
       "      <th>Total Bsmt SF</th>\n",
       "      <th>Heating</th>\n",
       "      <th>Heating QC</th>\n",
       "      <th>Central Air</th>\n",
       "      <th>Electrical</th>\n",
       "      <th>1st Flr SF</th>\n",
       "      <th>2nd Flr SF</th>\n",
       "      <th>Low Qual Fin SF</th>\n",
       "      <th>Gr Liv Area</th>\n",
       "      <th>Bsmt Full Bath</th>\n",
       "      <th>Bsmt Half Bath</th>\n",
       "      <th>Full Bath</th>\n",
       "      <th>Half Bath</th>\n",
       "      <th>Bedroom AbvGr</th>\n",
       "      <th>Kitchen AbvGr</th>\n",
       "      <th>Kitchen Qual</th>\n",
       "      <th>TotRms AbvGrd</th>\n",
       "      <th>Functional</th>\n",
       "      <th>Fireplaces</th>\n",
       "      <th>Fireplace Qu</th>\n",
       "      <th>Garage Type</th>\n",
       "      <th>Garage Yr Blt</th>\n",
       "      <th>Garage Finish</th>\n",
       "      <th>Garage Cars</th>\n",
       "      <th>Garage Area</th>\n",
       "      <th>Garage Qual</th>\n",
       "      <th>Garage Cond</th>\n",
       "      <th>Paved Drive</th>\n",
       "      <th>Wood Deck SF</th>\n",
       "      <th>Open Porch SF</th>\n",
       "      <th>Enclosed Porch</th>\n",
       "      <th>3Ssn Porch</th>\n",
       "      <th>Screen Porch</th>\n",
       "      <th>Pool Area</th>\n",
       "      <th>Pool QC</th>\n",
       "      <th>Fence</th>\n",
       "      <th>Misc Feature</th>\n",
       "      <th>Misc Val</th>\n",
       "      <th>Mo Sold</th>\n",
       "      <th>Yr Sold</th>\n",
       "      <th>Sale Type</th>\n",
       "    </tr>\n",
       "  </thead>\n",
       "  <tbody>\n",
       "    <tr>\n",
       "      <th>0</th>\n",
       "      <td>2658</td>\n",
       "      <td>902301120</td>\n",
       "      <td>190</td>\n",
       "      <td>RM</td>\n",
       "      <td>69.0000</td>\n",
       "      <td>9142</td>\n",
       "      <td>Pave</td>\n",
       "      <td>Grvl</td>\n",
       "      <td>Reg</td>\n",
       "      <td>Lvl</td>\n",
       "      <td>AllPub</td>\n",
       "      <td>Inside</td>\n",
       "      <td>Gtl</td>\n",
       "      <td>OldTown</td>\n",
       "      <td>Norm</td>\n",
       "      <td>Norm</td>\n",
       "      <td>2fmCon</td>\n",
       "      <td>2Story</td>\n",
       "      <td>6</td>\n",
       "      <td>8</td>\n",
       "      <td>1910</td>\n",
       "      <td>1950</td>\n",
       "      <td>Gable</td>\n",
       "      <td>CompShg</td>\n",
       "      <td>AsbShng</td>\n",
       "      <td>AsbShng</td>\n",
       "      <td>None</td>\n",
       "      <td>0.0</td>\n",
       "      <td>TA</td>\n",
       "      <td>Fa</td>\n",
       "      <td>Stone</td>\n",
       "      <td>2</td>\n",
       "      <td>3</td>\n",
       "      <td>1</td>\n",
       "      <td>1</td>\n",
       "      <td>0</td>\n",
       "      <td>1</td>\n",
       "      <td>0</td>\n",
       "      <td>1020</td>\n",
       "      <td>1020</td>\n",
       "      <td>GasA</td>\n",
       "      <td>Gd</td>\n",
       "      <td>N</td>\n",
       "      <td>FuseP</td>\n",
       "      <td>908</td>\n",
       "      <td>1020</td>\n",
       "      <td>0</td>\n",
       "      <td>1928</td>\n",
       "      <td>0</td>\n",
       "      <td>0</td>\n",
       "      <td>2</td>\n",
       "      <td>0</td>\n",
       "      <td>4</td>\n",
       "      <td>2</td>\n",
       "      <td>Fa</td>\n",
       "      <td>9</td>\n",
       "      <td>Typ</td>\n",
       "      <td>0</td>\n",
       "      <td>0</td>\n",
       "      <td>Detchd</td>\n",
       "      <td>1910.0</td>\n",
       "      <td>1</td>\n",
       "      <td>1</td>\n",
       "      <td>440</td>\n",
       "      <td>1</td>\n",
       "      <td>1</td>\n",
       "      <td>Y</td>\n",
       "      <td>0</td>\n",
       "      <td>60</td>\n",
       "      <td>112</td>\n",
       "      <td>0</td>\n",
       "      <td>0</td>\n",
       "      <td>0</td>\n",
       "      <td>0</td>\n",
       "      <td>No Fence</td>\n",
       "      <td>None</td>\n",
       "      <td>0</td>\n",
       "      <td>4</td>\n",
       "      <td>2006</td>\n",
       "      <td>WD</td>\n",
       "    </tr>\n",
       "    <tr>\n",
       "      <th>1</th>\n",
       "      <td>2718</td>\n",
       "      <td>905108090</td>\n",
       "      <td>90</td>\n",
       "      <td>RL</td>\n",
       "      <td>69.0552</td>\n",
       "      <td>9662</td>\n",
       "      <td>Pave</td>\n",
       "      <td>No_alley</td>\n",
       "      <td>IR1</td>\n",
       "      <td>Lvl</td>\n",
       "      <td>AllPub</td>\n",
       "      <td>Inside</td>\n",
       "      <td>Gtl</td>\n",
       "      <td>Sawyer</td>\n",
       "      <td>Norm</td>\n",
       "      <td>Norm</td>\n",
       "      <td>Duplex</td>\n",
       "      <td>1Story</td>\n",
       "      <td>5</td>\n",
       "      <td>4</td>\n",
       "      <td>1977</td>\n",
       "      <td>1977</td>\n",
       "      <td>Gable</td>\n",
       "      <td>CompShg</td>\n",
       "      <td>Plywood</td>\n",
       "      <td>Plywood</td>\n",
       "      <td>None</td>\n",
       "      <td>0.0</td>\n",
       "      <td>TA</td>\n",
       "      <td>TA</td>\n",
       "      <td>CBlock</td>\n",
       "      <td>4</td>\n",
       "      <td>3</td>\n",
       "      <td>1</td>\n",
       "      <td>1</td>\n",
       "      <td>0</td>\n",
       "      <td>1</td>\n",
       "      <td>0</td>\n",
       "      <td>1967</td>\n",
       "      <td>1967</td>\n",
       "      <td>GasA</td>\n",
       "      <td>TA</td>\n",
       "      <td>Y</td>\n",
       "      <td>SBrkr</td>\n",
       "      <td>1967</td>\n",
       "      <td>0</td>\n",
       "      <td>0</td>\n",
       "      <td>1967</td>\n",
       "      <td>0</td>\n",
       "      <td>0</td>\n",
       "      <td>2</td>\n",
       "      <td>0</td>\n",
       "      <td>6</td>\n",
       "      <td>2</td>\n",
       "      <td>TA</td>\n",
       "      <td>10</td>\n",
       "      <td>Typ</td>\n",
       "      <td>0</td>\n",
       "      <td>0</td>\n",
       "      <td>Attchd</td>\n",
       "      <td>1977.0</td>\n",
       "      <td>3</td>\n",
       "      <td>2</td>\n",
       "      <td>580</td>\n",
       "      <td>3</td>\n",
       "      <td>3</td>\n",
       "      <td>Y</td>\n",
       "      <td>170</td>\n",
       "      <td>0</td>\n",
       "      <td>0</td>\n",
       "      <td>0</td>\n",
       "      <td>0</td>\n",
       "      <td>0</td>\n",
       "      <td>0</td>\n",
       "      <td>No Fence</td>\n",
       "      <td>None</td>\n",
       "      <td>0</td>\n",
       "      <td>8</td>\n",
       "      <td>2006</td>\n",
       "      <td>WD</td>\n",
       "    </tr>\n",
       "    <tr>\n",
       "      <th>2</th>\n",
       "      <td>2414</td>\n",
       "      <td>528218130</td>\n",
       "      <td>60</td>\n",
       "      <td>RL</td>\n",
       "      <td>58.0000</td>\n",
       "      <td>17104</td>\n",
       "      <td>Pave</td>\n",
       "      <td>No_alley</td>\n",
       "      <td>IR1</td>\n",
       "      <td>Lvl</td>\n",
       "      <td>AllPub</td>\n",
       "      <td>Inside</td>\n",
       "      <td>Gtl</td>\n",
       "      <td>Gilbert</td>\n",
       "      <td>Norm</td>\n",
       "      <td>Norm</td>\n",
       "      <td>1Fam</td>\n",
       "      <td>2Story</td>\n",
       "      <td>7</td>\n",
       "      <td>5</td>\n",
       "      <td>2006</td>\n",
       "      <td>2006</td>\n",
       "      <td>Gable</td>\n",
       "      <td>CompShg</td>\n",
       "      <td>VinylSd</td>\n",
       "      <td>VinylSd</td>\n",
       "      <td>None</td>\n",
       "      <td>0.0</td>\n",
       "      <td>Gd</td>\n",
       "      <td>TA</td>\n",
       "      <td>PConc</td>\n",
       "      <td>4</td>\n",
       "      <td>4</td>\n",
       "      <td>3</td>\n",
       "      <td>6</td>\n",
       "      <td>554</td>\n",
       "      <td>1</td>\n",
       "      <td>0</td>\n",
       "      <td>100</td>\n",
       "      <td>654</td>\n",
       "      <td>GasA</td>\n",
       "      <td>Ex</td>\n",
       "      <td>Y</td>\n",
       "      <td>SBrkr</td>\n",
       "      <td>664</td>\n",
       "      <td>832</td>\n",
       "      <td>0</td>\n",
       "      <td>1496</td>\n",
       "      <td>1</td>\n",
       "      <td>0</td>\n",
       "      <td>2</td>\n",
       "      <td>1</td>\n",
       "      <td>3</td>\n",
       "      <td>1</td>\n",
       "      <td>Gd</td>\n",
       "      <td>7</td>\n",
       "      <td>Typ</td>\n",
       "      <td>1</td>\n",
       "      <td>4</td>\n",
       "      <td>Attchd</td>\n",
       "      <td>2006.0</td>\n",
       "      <td>2</td>\n",
       "      <td>2</td>\n",
       "      <td>426</td>\n",
       "      <td>3</td>\n",
       "      <td>3</td>\n",
       "      <td>Y</td>\n",
       "      <td>100</td>\n",
       "      <td>24</td>\n",
       "      <td>0</td>\n",
       "      <td>0</td>\n",
       "      <td>0</td>\n",
       "      <td>0</td>\n",
       "      <td>0</td>\n",
       "      <td>No Fence</td>\n",
       "      <td>None</td>\n",
       "      <td>0</td>\n",
       "      <td>9</td>\n",
       "      <td>2006</td>\n",
       "      <td>New</td>\n",
       "    </tr>\n",
       "    <tr>\n",
       "      <th>3</th>\n",
       "      <td>1989</td>\n",
       "      <td>902207150</td>\n",
       "      <td>30</td>\n",
       "      <td>RM</td>\n",
       "      <td>60.0000</td>\n",
       "      <td>8520</td>\n",
       "      <td>Pave</td>\n",
       "      <td>No_alley</td>\n",
       "      <td>Reg</td>\n",
       "      <td>Lvl</td>\n",
       "      <td>AllPub</td>\n",
       "      <td>Inside</td>\n",
       "      <td>Gtl</td>\n",
       "      <td>OldTown</td>\n",
       "      <td>Norm</td>\n",
       "      <td>Norm</td>\n",
       "      <td>1Fam</td>\n",
       "      <td>1Story</td>\n",
       "      <td>5</td>\n",
       "      <td>6</td>\n",
       "      <td>1923</td>\n",
       "      <td>2006</td>\n",
       "      <td>Gable</td>\n",
       "      <td>CompShg</td>\n",
       "      <td>Wd Sdng</td>\n",
       "      <td>Wd Sdng</td>\n",
       "      <td>None</td>\n",
       "      <td>0.0</td>\n",
       "      <td>Gd</td>\n",
       "      <td>TA</td>\n",
       "      <td>CBlock</td>\n",
       "      <td>3</td>\n",
       "      <td>3</td>\n",
       "      <td>1</td>\n",
       "      <td>1</td>\n",
       "      <td>0</td>\n",
       "      <td>1</td>\n",
       "      <td>0</td>\n",
       "      <td>968</td>\n",
       "      <td>968</td>\n",
       "      <td>GasA</td>\n",
       "      <td>TA</td>\n",
       "      <td>Y</td>\n",
       "      <td>SBrkr</td>\n",
       "      <td>968</td>\n",
       "      <td>0</td>\n",
       "      <td>0</td>\n",
       "      <td>968</td>\n",
       "      <td>0</td>\n",
       "      <td>0</td>\n",
       "      <td>1</td>\n",
       "      <td>0</td>\n",
       "      <td>2</td>\n",
       "      <td>1</td>\n",
       "      <td>TA</td>\n",
       "      <td>5</td>\n",
       "      <td>Typ</td>\n",
       "      <td>0</td>\n",
       "      <td>0</td>\n",
       "      <td>Detchd</td>\n",
       "      <td>1935.0</td>\n",
       "      <td>1</td>\n",
       "      <td>2</td>\n",
       "      <td>480</td>\n",
       "      <td>2</td>\n",
       "      <td>3</td>\n",
       "      <td>N</td>\n",
       "      <td>0</td>\n",
       "      <td>0</td>\n",
       "      <td>184</td>\n",
       "      <td>0</td>\n",
       "      <td>0</td>\n",
       "      <td>0</td>\n",
       "      <td>0</td>\n",
       "      <td>No Fence</td>\n",
       "      <td>None</td>\n",
       "      <td>0</td>\n",
       "      <td>7</td>\n",
       "      <td>2007</td>\n",
       "      <td>WD</td>\n",
       "    </tr>\n",
       "    <tr>\n",
       "      <th>4</th>\n",
       "      <td>625</td>\n",
       "      <td>535105100</td>\n",
       "      <td>20</td>\n",
       "      <td>RL</td>\n",
       "      <td>69.0552</td>\n",
       "      <td>9500</td>\n",
       "      <td>Pave</td>\n",
       "      <td>No_alley</td>\n",
       "      <td>IR1</td>\n",
       "      <td>Lvl</td>\n",
       "      <td>AllPub</td>\n",
       "      <td>Inside</td>\n",
       "      <td>Gtl</td>\n",
       "      <td>NAmes</td>\n",
       "      <td>Norm</td>\n",
       "      <td>Norm</td>\n",
       "      <td>1Fam</td>\n",
       "      <td>1Story</td>\n",
       "      <td>6</td>\n",
       "      <td>5</td>\n",
       "      <td>1963</td>\n",
       "      <td>1963</td>\n",
       "      <td>Gable</td>\n",
       "      <td>CompShg</td>\n",
       "      <td>Plywood</td>\n",
       "      <td>Plywood</td>\n",
       "      <td>BrkFace</td>\n",
       "      <td>247.0</td>\n",
       "      <td>TA</td>\n",
       "      <td>TA</td>\n",
       "      <td>CBlock</td>\n",
       "      <td>4</td>\n",
       "      <td>3</td>\n",
       "      <td>1</td>\n",
       "      <td>4</td>\n",
       "      <td>609</td>\n",
       "      <td>1</td>\n",
       "      <td>0</td>\n",
       "      <td>785</td>\n",
       "      <td>1394</td>\n",
       "      <td>GasA</td>\n",
       "      <td>Gd</td>\n",
       "      <td>Y</td>\n",
       "      <td>SBrkr</td>\n",
       "      <td>1394</td>\n",
       "      <td>0</td>\n",
       "      <td>0</td>\n",
       "      <td>1394</td>\n",
       "      <td>1</td>\n",
       "      <td>0</td>\n",
       "      <td>1</td>\n",
       "      <td>1</td>\n",
       "      <td>3</td>\n",
       "      <td>1</td>\n",
       "      <td>TA</td>\n",
       "      <td>6</td>\n",
       "      <td>Typ</td>\n",
       "      <td>2</td>\n",
       "      <td>4</td>\n",
       "      <td>Attchd</td>\n",
       "      <td>1963.0</td>\n",
       "      <td>2</td>\n",
       "      <td>2</td>\n",
       "      <td>514</td>\n",
       "      <td>3</td>\n",
       "      <td>3</td>\n",
       "      <td>Y</td>\n",
       "      <td>0</td>\n",
       "      <td>76</td>\n",
       "      <td>0</td>\n",
       "      <td>0</td>\n",
       "      <td>185</td>\n",
       "      <td>0</td>\n",
       "      <td>0</td>\n",
       "      <td>No Fence</td>\n",
       "      <td>None</td>\n",
       "      <td>0</td>\n",
       "      <td>7</td>\n",
       "      <td>2009</td>\n",
       "      <td>WD</td>\n",
       "    </tr>\n",
       "  </tbody>\n",
       "</table>\n",
       "</div>"
      ],
      "text/plain": [
       "     Id        PID MS SubClass MS Zoning  Lot Frontage  Lot Area Street  \\\n",
       "0  2658  902301120         190        RM       69.0000      9142   Pave   \n",
       "1  2718  905108090          90        RL       69.0552      9662   Pave   \n",
       "2  2414  528218130          60        RL       58.0000     17104   Pave   \n",
       "3  1989  902207150          30        RM       60.0000      8520   Pave   \n",
       "4   625  535105100          20        RL       69.0552      9500   Pave   \n",
       "\n",
       "      Alley Lot Shape Land Contour Utilities Lot Config Land Slope  \\\n",
       "0      Grvl       Reg          Lvl    AllPub     Inside        Gtl   \n",
       "1  No_alley       IR1          Lvl    AllPub     Inside        Gtl   \n",
       "2  No_alley       IR1          Lvl    AllPub     Inside        Gtl   \n",
       "3  No_alley       Reg          Lvl    AllPub     Inside        Gtl   \n",
       "4  No_alley       IR1          Lvl    AllPub     Inside        Gtl   \n",
       "\n",
       "  Neighborhood Condition 1 Condition 2 Bldg Type House Style  Overall Qual  \\\n",
       "0      OldTown        Norm        Norm    2fmCon      2Story             6   \n",
       "1       Sawyer        Norm        Norm    Duplex      1Story             5   \n",
       "2      Gilbert        Norm        Norm      1Fam      2Story             7   \n",
       "3      OldTown        Norm        Norm      1Fam      1Story             5   \n",
       "4        NAmes        Norm        Norm      1Fam      1Story             6   \n",
       "\n",
       "   Overall Cond  Year Built  Year Remod/Add Roof Style Roof Matl Exterior 1st  \\\n",
       "0             8        1910            1950      Gable   CompShg      AsbShng   \n",
       "1             4        1977            1977      Gable   CompShg      Plywood   \n",
       "2             5        2006            2006      Gable   CompShg      VinylSd   \n",
       "3             6        1923            2006      Gable   CompShg      Wd Sdng   \n",
       "4             5        1963            1963      Gable   CompShg      Plywood   \n",
       "\n",
       "  Exterior 2nd Mas Vnr Type  Mas Vnr Area Exter Qual Exter Cond Foundation  \\\n",
       "0      AsbShng         None           0.0         TA         Fa      Stone   \n",
       "1      Plywood         None           0.0         TA         TA     CBlock   \n",
       "2      VinylSd         None           0.0         Gd         TA      PConc   \n",
       "3      Wd Sdng         None           0.0         Gd         TA     CBlock   \n",
       "4      Plywood      BrkFace         247.0         TA         TA     CBlock   \n",
       "\n",
       "   Bsmt Qual  Bsmt Cond  Bsmt Exposure  BsmtFin Type 1  BsmtFin SF 1  \\\n",
       "0          2          3              1               1             0   \n",
       "1          4          3              1               1             0   \n",
       "2          4          4              3               6           554   \n",
       "3          3          3              1               1             0   \n",
       "4          4          3              1               4           609   \n",
       "\n",
       "   BsmtFin Type 2  BsmtFin SF 2  Bsmt Unf SF  Total Bsmt SF Heating  \\\n",
       "0               1             0         1020           1020    GasA   \n",
       "1               1             0         1967           1967    GasA   \n",
       "2               1             0          100            654    GasA   \n",
       "3               1             0          968            968    GasA   \n",
       "4               1             0          785           1394    GasA   \n",
       "\n",
       "  Heating QC Central Air Electrical  1st Flr SF  2nd Flr SF  Low Qual Fin SF  \\\n",
       "0         Gd           N      FuseP         908        1020                0   \n",
       "1         TA           Y      SBrkr        1967           0                0   \n",
       "2         Ex           Y      SBrkr         664         832                0   \n",
       "3         TA           Y      SBrkr         968           0                0   \n",
       "4         Gd           Y      SBrkr        1394           0                0   \n",
       "\n",
       "   Gr Liv Area  Bsmt Full Bath  Bsmt Half Bath  Full Bath  Half Bath  \\\n",
       "0         1928               0               0          2          0   \n",
       "1         1967               0               0          2          0   \n",
       "2         1496               1               0          2          1   \n",
       "3          968               0               0          1          0   \n",
       "4         1394               1               0          1          1   \n",
       "\n",
       "   Bedroom AbvGr  Kitchen AbvGr Kitchen Qual  TotRms AbvGrd Functional  \\\n",
       "0              4              2           Fa              9        Typ   \n",
       "1              6              2           TA             10        Typ   \n",
       "2              3              1           Gd              7        Typ   \n",
       "3              2              1           TA              5        Typ   \n",
       "4              3              1           TA              6        Typ   \n",
       "\n",
       "   Fireplaces  Fireplace Qu Garage Type  Garage Yr Blt  Garage Finish  \\\n",
       "0           0             0      Detchd         1910.0              1   \n",
       "1           0             0      Attchd         1977.0              3   \n",
       "2           1             4      Attchd         2006.0              2   \n",
       "3           0             0      Detchd         1935.0              1   \n",
       "4           2             4      Attchd         1963.0              2   \n",
       "\n",
       "   Garage Cars  Garage Area  Garage Qual  Garage Cond Paved Drive  \\\n",
       "0            1          440            1            1           Y   \n",
       "1            2          580            3            3           Y   \n",
       "2            2          426            3            3           Y   \n",
       "3            2          480            2            3           N   \n",
       "4            2          514            3            3           Y   \n",
       "\n",
       "   Wood Deck SF  Open Porch SF  Enclosed Porch  3Ssn Porch  Screen Porch  \\\n",
       "0             0             60             112           0             0   \n",
       "1           170              0               0           0             0   \n",
       "2           100             24               0           0             0   \n",
       "3             0              0             184           0             0   \n",
       "4             0             76               0           0           185   \n",
       "\n",
       "   Pool Area  Pool QC     Fence Misc Feature  Misc Val  Mo Sold  Yr Sold  \\\n",
       "0          0        0  No Fence         None         0        4     2006   \n",
       "1          0        0  No Fence         None         0        8     2006   \n",
       "2          0        0  No Fence         None         0        9     2006   \n",
       "3          0        0  No Fence         None         0        7     2007   \n",
       "4          0        0  No Fence         None         0        7     2009   \n",
       "\n",
       "  Sale Type  \n",
       "0       WD   \n",
       "1       WD   \n",
       "2       New  \n",
       "3       WD   \n",
       "4       WD   "
      ]
     },
     "execution_count": 60,
     "metadata": {},
     "output_type": "execute_result"
    }
   ],
   "source": [
    "val.head()"
   ]
  },
  {
   "cell_type": "code",
   "execution_count": 61,
   "metadata": {},
   "outputs": [],
   "source": [
    "# Creating dummy variables \n",
    "val = pd.get_dummies(val, columns = ['Neighborhood', 'MS SubClass', 'MS Zoning', 'Street', 'Alley', 'Land Contour', 'Lot Config', \n",
    "                                   'Condition 1', 'Condition 2', 'Bldg Type', 'House Style', 'Roof Style', 'Roof Matl', \n",
    "                                  'Exterior 1st', 'Exterior 2nd', 'Mas Vnr Type', 'Foundation', 'Heating', 'Electrical', \n",
    "                                   'Garage Type', 'Fence', 'Misc Feature', 'Sale Type', 'Mo Sold'])"
   ]
  },
  {
   "cell_type": "code",
   "execution_count": 62,
   "metadata": {},
   "outputs": [],
   "source": [
    "# Formating validation set \n",
    "format_model_prep(val)"
   ]
  },
  {
   "cell_type": "code",
   "execution_count": 63,
   "metadata": {},
   "outputs": [
    {
     "data": {
      "text/plain": [
       "0"
      ]
     },
     "execution_count": 63,
     "metadata": {},
     "output_type": "execute_result"
    }
   ],
   "source": [
    "# Confirming no null values: \n",
    "val.isnull().sum().sum()"
   ]
  },
  {
   "cell_type": "code",
   "execution_count": 64,
   "metadata": {},
   "outputs": [
    {
     "data": {
      "text/plain": [
       "(2051, 255)"
      ]
     },
     "execution_count": 64,
     "metadata": {},
     "output_type": "execute_result"
    }
   ],
   "source": [
    "df.shape"
   ]
  },
  {
   "cell_type": "code",
   "execution_count": 65,
   "metadata": {},
   "outputs": [
    {
     "data": {
      "text/plain": [
       "(878, 242)"
      ]
     },
     "execution_count": 65,
     "metadata": {},
     "output_type": "execute_result"
    }
   ],
   "source": [
    "val.shape"
   ]
  },
  {
   "cell_type": "code",
   "execution_count": 66,
   "metadata": {},
   "outputs": [
    {
     "data": {
      "text/plain": [
       "{'Condition 2_Artery',\n",
       " 'Condition 2_PosN',\n",
       " 'Condition 2_RRAe',\n",
       " 'Condition 2_RRAn',\n",
       " 'Condition 2_RRNn',\n",
       " 'Electrical_Mix',\n",
       " 'Exterior 1st_CBlock',\n",
       " 'Exterior 1st_ImStucc',\n",
       " 'Exterior 1st_Stone',\n",
       " 'Exterior 2nd_Stone',\n",
       " 'Heating_OthW',\n",
       " 'Heating_Wall',\n",
       " 'MS SubClass_150',\n",
       " 'MS Zoning_A (agr)',\n",
       " 'Misc Feature_Elev',\n",
       " 'Misc Feature_TenC',\n",
       " 'Neighborhood_GrnHill',\n",
       " 'Neighborhood_Landmrk',\n",
       " 'Roof Matl_ClyTile',\n",
       " 'Roof Matl_Membran'}"
      ]
     },
     "execution_count": 66,
     "metadata": {},
     "output_type": "execute_result"
    }
   ],
   "source": [
    "# Looking for columns included in the testing set that are not in the validations set:\n",
    "missing_cols = set(X_train.columns) - set(val.columns)\n",
    "missing_cols"
   ]
  },
  {
   "cell_type": "code",
   "execution_count": 67,
   "metadata": {},
   "outputs": [],
   "source": [
    "# Including the missing columns in the validation set, with a value of 0:\n",
    "for col in missing_cols:\n",
    "    val[col] = 0 "
   ]
  },
  {
   "cell_type": "code",
   "execution_count": 68,
   "metadata": {},
   "outputs": [],
   "source": [
    "# Filtering our validation set to match our X_train: \n",
    "filtered_val = val.drop(columns = ['Id', 'PID', 'Yr Sold', 'Year Remod/Add', 'TotRms AbvGrd', 'Full Bath', 'Half Bath'])"
   ]
  },
  {
   "cell_type": "code",
   "execution_count": 69,
   "metadata": {},
   "outputs": [
    {
     "data": {
      "text/plain": [
       "(1538, 247)"
      ]
     },
     "execution_count": 69,
     "metadata": {},
     "output_type": "execute_result"
    }
   ],
   "source": [
    "X_train.shape"
   ]
  },
  {
   "cell_type": "code",
   "execution_count": 70,
   "metadata": {
    "scrolled": false
   },
   "outputs": [
    {
     "data": {
      "text/plain": [
       "(878, 255)"
      ]
     },
     "execution_count": 70,
     "metadata": {},
     "output_type": "execute_result"
    }
   ],
   "source": [
    "filtered_val.shape"
   ]
  },
  {
   "cell_type": "code",
   "execution_count": 71,
   "metadata": {},
   "outputs": [
    {
     "data": {
      "text/plain": [
       "{'Exterior 1st_PreCast',\n",
       " 'Exterior 2nd_Other',\n",
       " 'Exterior 2nd_PreCast',\n",
       " 'Heating_Floor',\n",
       " 'Mas Vnr Type_CBlock',\n",
       " 'Roof Matl_Metal',\n",
       " 'Roof Matl_Roll',\n",
       " 'Sale Type_VWD'}"
      ]
     },
     "execution_count": 71,
     "metadata": {},
     "output_type": "execute_result"
    }
   ],
   "source": [
    "# Looking for columns that are included in the validation set but not in the training set: \n",
    "disc_col = set(filtered_val.columns) - set(X_train.columns)\n",
    "disc_col"
   ]
  },
  {
   "cell_type": "code",
   "execution_count": 72,
   "metadata": {},
   "outputs": [],
   "source": [
    "# Dropping those columns as our model was not trained on those features:  \n",
    "filtered_val.drop(columns = disc_col, inplace=True)"
   ]
  },
  {
   "cell_type": "code",
   "execution_count": 73,
   "metadata": {},
   "outputs": [
    {
     "data": {
      "text/plain": [
       "(878, 247)"
      ]
     },
     "execution_count": 73,
     "metadata": {},
     "output_type": "execute_result"
    }
   ],
   "source": [
    "# Confirming shape:\n",
    "filtered_val.shape"
   ]
  },
  {
   "cell_type": "code",
   "execution_count": 74,
   "metadata": {},
   "outputs": [],
   "source": [
    "# Making sure that the columns are in the correct order to match the training set: \n",
    "filtered_val = filtered_val[X.columns]"
   ]
  },
  {
   "cell_type": "code",
   "execution_count": 75,
   "metadata": {},
   "outputs": [],
   "source": [
    "# Scaling our data: \n",
    "filtered_val_sc = ss.transform(filtered_val)"
   ]
  },
  {
   "cell_type": "code",
   "execution_count": 76,
   "metadata": {
    "scrolled": true
   },
   "outputs": [],
   "source": [
    "# Generating predictions: \n",
    "preds_val = lasso_cv.predict(filtered_val_sc)"
   ]
  },
  {
   "cell_type": "code",
   "execution_count": 77,
   "metadata": {},
   "outputs": [],
   "source": [
    "# Transforming predictions back to the original unit: \n",
    "preds_original_scale = np.exp(preds_val)"
   ]
  },
  {
   "cell_type": "code",
   "execution_count": 78,
   "metadata": {},
   "outputs": [
    {
     "data": {
      "text/plain": [
       "array([122622.20530917, 166837.52019379, 216115.24867378, 102930.72575361,\n",
       "       173449.7829245 ,  97946.83800182, 109580.1074122 , 146787.30392668,\n",
       "       171712.49843022, 159056.18633002])"
      ]
     },
     "execution_count": 78,
     "metadata": {},
     "output_type": "execute_result"
    }
   ],
   "source": [
    "preds_original_scale[:10]"
   ]
  },
  {
   "cell_type": "code",
   "execution_count": 79,
   "metadata": {},
   "outputs": [
    {
     "data": {
      "text/html": [
       "<div>\n",
       "<style scoped>\n",
       "    .dataframe tbody tr th:only-of-type {\n",
       "        vertical-align: middle;\n",
       "    }\n",
       "\n",
       "    .dataframe tbody tr th {\n",
       "        vertical-align: top;\n",
       "    }\n",
       "\n",
       "    .dataframe thead th {\n",
       "        text-align: right;\n",
       "    }\n",
       "</style>\n",
       "<table border=\"1\" class=\"dataframe\">\n",
       "  <thead>\n",
       "    <tr style=\"text-align: right;\">\n",
       "      <th></th>\n",
       "      <th>Id</th>\n",
       "      <th>SalePrice</th>\n",
       "    </tr>\n",
       "  </thead>\n",
       "  <tbody>\n",
       "    <tr>\n",
       "      <th>0</th>\n",
       "      <td>2658</td>\n",
       "      <td>122622.205309</td>\n",
       "    </tr>\n",
       "    <tr>\n",
       "      <th>1</th>\n",
       "      <td>2718</td>\n",
       "      <td>166837.520194</td>\n",
       "    </tr>\n",
       "    <tr>\n",
       "      <th>2</th>\n",
       "      <td>2414</td>\n",
       "      <td>216115.248674</td>\n",
       "    </tr>\n",
       "    <tr>\n",
       "      <th>3</th>\n",
       "      <td>1989</td>\n",
       "      <td>102930.725754</td>\n",
       "    </tr>\n",
       "    <tr>\n",
       "      <th>4</th>\n",
       "      <td>625</td>\n",
       "      <td>173449.782924</td>\n",
       "    </tr>\n",
       "  </tbody>\n",
       "</table>\n",
       "</div>"
      ],
      "text/plain": [
       "     Id      SalePrice\n",
       "0  2658  122622.205309\n",
       "1  2718  166837.520194\n",
       "2  2414  216115.248674\n",
       "3  1989  102930.725754\n",
       "4   625  173449.782924"
      ]
     },
     "execution_count": 79,
     "metadata": {},
     "output_type": "execute_result"
    }
   ],
   "source": [
    "# We need to submit to Kaggle in the appropriate form of .csv \n",
    "\n",
    "# create prediction Series\n",
    "preds_col = pd.Series(preds_original_scale, name = \"SalePrice\")\n",
    "\n",
    "# combine with Id\n",
    "id_col    = val[\"Id\"]\n",
    "output = pd.concat([id_col, preds_col], axis = 1)\n",
    "output.head()"
   ]
  },
  {
   "cell_type": "code",
   "execution_count": null,
   "metadata": {},
   "outputs": [],
   "source": [
    "# write to csv \n",
    "\n",
    "output.to_csv('../output/submission_3.csv', index = False)"
   ]
  }
 ],
 "metadata": {
  "kernelspec": {
   "display_name": "Python 3",
   "language": "python",
   "name": "python3"
  },
  "language_info": {
   "codemirror_mode": {
    "name": "ipython",
    "version": 3
   },
   "file_extension": ".py",
   "mimetype": "text/x-python",
   "name": "python",
   "nbconvert_exporter": "python",
   "pygments_lexer": "ipython3",
   "version": "3.7.6"
  }
 },
 "nbformat": 4,
 "nbformat_minor": 4
}
